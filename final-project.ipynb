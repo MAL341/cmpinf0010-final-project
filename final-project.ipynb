{
 "cells": [
  {
   "cell_type": "markdown",
   "metadata": {},
   "source": [
    "# Which neighborhood is best?"
   ]
  },
  {
   "cell_type": "markdown",
   "metadata": {},
   "source": [
    "Lots of things can make good neighborhoods great, or bad neighborhoods terrible. But when it comes to picking the perfect home for yourself and your family, there's one detail that almost everyone forgets...\n",
    "\n",
    "![zombie apocalypse](https://images.glaciermedia.ca/polopoly_fs/1.23967349.1570222782!/fileImage/httpImage/image.jpg_gen/derivatives/landscape_804/zombie-apocalypse.jpg)\n",
    "\n",
    "...the Zombie Apocalypse.\n",
    "\n",
    "For how can you truly live if you spend your days constantly in fear that the **Horde** will come for you any minute now? Certain neighborhoods may have better parks, more attractions, or friendlier communities, but the Zombie Apocalypse is a matter of life and death.\n",
    "\n",
    "So how can you truly be safe when that Day comes? Thankfully, there are ways to determine just how survivable a neighborhood would be in the Zombie Apocalypse. In this report, we'll look at the presence of steps, retaining walls, and trees as physical features that improve a neighborhood's SI, or Survivability Index.\n",
    "\n",
    "So let's find out just how safe each neighborhood will be when the dead finally take their place among the living."
   ]
  },
  {
   "cell_type": "markdown",
   "metadata": {},
   "source": [
    "## The Survivability Index\n",
    "\n",
    "First, we need a definitive metric for determining which neighborhood is the safest. Let's think about each physical feature in terms of how you can use it to your advantage when the zombies come for you and use it to come up with a mathematical equation for our SI.\n",
    "\n",
    "### Steps\n",
    "\n",
    "![steps](https://tools.wprdc.org/images/pittsburgh/steps/Glenhurst_Rd_to_Lougean_Ave.jpg)\n",
    "\n",
    "Steps are awesome because zombies can't climb them well. They sort of shuffle their feet when they walk, allowing you to smash them in the skull with a hockey stick or pepper them with throwing stars. For this reason, stairs are essential when it comes to zombie combat, or ZomCom. Getting the high ground on stairs during a swarm could not only save your life, but make the fight incredibly boring. We'll give good stairs a weight of 5 in our equation.\n",
    "\n",
    "### Retaining Walls\n",
    "\n",
    "![retaining-wall](https://tools.wprdc.org/images/pittsburgh/retaining_walls/Woodville_Ave_1.jpg)\n",
    "\n",
    "Retaining walls can be a double-edged sword. If you're at the bottom of one, it can leave you trapped with no way out. However, being stuck against a retaining wall can often be much better than being entirely surrounded by zombies. If you can get your back against one and find something heavy to swing, your odds of survival increase dramatically. Let's give good retaining walls a weight of 5.\n",
    "\n",
    "### Trees\n",
    "\n",
    "![tree](https://www.arborday.org/trees/lifestages/images/figure-life-stages.jpg)\n",
    "\n",
    "Trees are tricky, too; they can be good to climb in a pinch if you're stuck with nowhere else to go, but you need either a ranged weapon or something with a long reach to get out of the situation alive once you're in the tree. Still, they could save your life in the Zombie Apocalypse, too, so we'll give climbable trees a weight of .2, since they're so numerous in a lot of places.\n",
    "\n",
    "Now that we have our weights, we can calculate the SI of any neighborhood with the equation:\n",
    "\n",
    "`i = 5s + 5r + .2t`\n",
    "\n",
    "where `s` is the number of usable steps in the neighborhood, `r` is the number of viable retaining walls, and `t` is the number of climbable trees. `i`, of course, is the Survivability Index."
   ]
  },
  {
   "cell_type": "markdown",
   "metadata": {},
   "source": [
    "## The Process\n",
    "\n",
    "Alright, let's get started. First, we'll import pandas, numpy, and matplotlib."
   ]
  },
  {
   "cell_type": "code",
   "execution_count": 2,
   "metadata": {},
   "outputs": [],
   "source": [
    "import pandas as pd\n",
    "import numpy as np\n",
    "%matplotlib inline\n",
    "import matplotlib.pyplot as plt"
   ]
  },
  {
   "cell_type": "markdown",
   "metadata": {},
   "source": [
    "Let's take a look at the retaining walls first."
   ]
  },
  {
   "cell_type": "code",
   "execution_count": 3,
   "metadata": {},
   "outputs": [
    {
     "data": {
      "text/html": [
       "<div>\n",
       "<style scoped>\n",
       "    .dataframe tbody tr th:only-of-type {\n",
       "        vertical-align: middle;\n",
       "    }\n",
       "\n",
       "    .dataframe tbody tr th {\n",
       "        vertical-align: top;\n",
       "    }\n",
       "\n",
       "    .dataframe thead th {\n",
       "        text-align: right;\n",
       "    }\n",
       "</style>\n",
       "<table border=\"1\" class=\"dataframe\">\n",
       "  <thead>\n",
       "    <tr style=\"text-align: right;\">\n",
       "      <th></th>\n",
       "      <th>id</th>\n",
       "      <th>name</th>\n",
       "      <th>street</th>\n",
       "      <th>to_street</th>\n",
       "      <th>year_constructed</th>\n",
       "      <th>public_view</th>\n",
       "      <th>inactive</th>\n",
       "      <th>height</th>\n",
       "      <th>length</th>\n",
       "      <th>image</th>\n",
       "      <th>neighborhood</th>\n",
       "      <th>council_district</th>\n",
       "      <th>ward</th>\n",
       "      <th>tract</th>\n",
       "      <th>public_works_division</th>\n",
       "      <th>pli_division</th>\n",
       "      <th>police_zone</th>\n",
       "      <th>fire_zone</th>\n",
       "      <th>latitude</th>\n",
       "      <th>longitude</th>\n",
       "    </tr>\n",
       "  </thead>\n",
       "  <tbody>\n",
       "    <tr>\n",
       "      <th>0</th>\n",
       "      <td>310040364</td>\n",
       "      <td>1003-1031 Arlington East</td>\n",
       "      <td>ARLINGTON AVE</td>\n",
       "      <td>NaN</td>\n",
       "      <td>1940.0</td>\n",
       "      <td>t</td>\n",
       "      <td>f</td>\n",
       "      <td>15.0</td>\n",
       "      <td>310.0</td>\n",
       "      <td>https://tools.wprdc.org/images/pittsburgh/reta...</td>\n",
       "      <td>Allentown</td>\n",
       "      <td>3</td>\n",
       "      <td>18.0</td>\n",
       "      <td>42003180300</td>\n",
       "      <td>5</td>\n",
       "      <td>18.0</td>\n",
       "      <td>3</td>\n",
       "      <td>4-5</td>\n",
       "      <td>40.424295</td>\n",
       "      <td>-79.988339</td>\n",
       "    </tr>\n",
       "    <tr>\n",
       "      <th>1</th>\n",
       "      <td>947667950</td>\n",
       "      <td>1003-1059 Arlington Ave</td>\n",
       "      <td>ARLINGTON AVE</td>\n",
       "      <td>NaN</td>\n",
       "      <td>1940.0</td>\n",
       "      <td>t</td>\n",
       "      <td>f</td>\n",
       "      <td>8.0</td>\n",
       "      <td>421.0</td>\n",
       "      <td>https://tools.wprdc.org/images/pittsburgh/reta...</td>\n",
       "      <td>Allentown</td>\n",
       "      <td>3</td>\n",
       "      <td>18.0</td>\n",
       "      <td>42003180300</td>\n",
       "      <td>5</td>\n",
       "      <td>18.0</td>\n",
       "      <td>3</td>\n",
       "      <td>4-5</td>\n",
       "      <td>40.423962</td>\n",
       "      <td>-79.988804</td>\n",
       "    </tr>\n",
       "    <tr>\n",
       "      <th>2</th>\n",
       "      <td>1758453574</td>\n",
       "      <td>1031-1039 Arlington Ave</td>\n",
       "      <td>ARLINGTON AVE</td>\n",
       "      <td>NaN</td>\n",
       "      <td>1940.0</td>\n",
       "      <td>t</td>\n",
       "      <td>f</td>\n",
       "      <td>15.0</td>\n",
       "      <td>57.0</td>\n",
       "      <td>https://tools.wprdc.org/images/pittsburgh/reta...</td>\n",
       "      <td>Allentown</td>\n",
       "      <td>3</td>\n",
       "      <td>18.0</td>\n",
       "      <td>42003180300</td>\n",
       "      <td>5</td>\n",
       "      <td>18.0</td>\n",
       "      <td>3</td>\n",
       "      <td>4-5</td>\n",
       "      <td>40.423743</td>\n",
       "      <td>-79.988530</td>\n",
       "    </tr>\n",
       "    <tr>\n",
       "      <th>3</th>\n",
       "      <td>819232404</td>\n",
       "      <td>1039-1047 Arlington Ave East</td>\n",
       "      <td>ARLINGTON AVE</td>\n",
       "      <td>NaN</td>\n",
       "      <td>1940.0</td>\n",
       "      <td>t</td>\n",
       "      <td>f</td>\n",
       "      <td>3.0</td>\n",
       "      <td>121.0</td>\n",
       "      <td>https://tools.wprdc.org/images/pittsburgh/reta...</td>\n",
       "      <td>Allentown</td>\n",
       "      <td>3</td>\n",
       "      <td>18.0</td>\n",
       "      <td>42003180300</td>\n",
       "      <td>5</td>\n",
       "      <td>18.0</td>\n",
       "      <td>3</td>\n",
       "      <td>4-5</td>\n",
       "      <td>40.423507</td>\n",
       "      <td>-79.988868</td>\n",
       "    </tr>\n",
       "    <tr>\n",
       "      <th>4</th>\n",
       "      <td>928916572</td>\n",
       "      <td>1059 Arlington Ave</td>\n",
       "      <td>ARLINGTON AVE</td>\n",
       "      <td>NaN</td>\n",
       "      <td>1940.0</td>\n",
       "      <td>t</td>\n",
       "      <td>f</td>\n",
       "      <td>10.0</td>\n",
       "      <td>20.0</td>\n",
       "      <td>https://tools.wprdc.org/images/pittsburgh/reta...</td>\n",
       "      <td>Allentown</td>\n",
       "      <td>3</td>\n",
       "      <td>18.0</td>\n",
       "      <td>42003180300</td>\n",
       "      <td>5</td>\n",
       "      <td>18.0</td>\n",
       "      <td>3</td>\n",
       "      <td>4-5</td>\n",
       "      <td>40.423360</td>\n",
       "      <td>-79.989556</td>\n",
       "    </tr>\n",
       "  </tbody>\n",
       "</table>\n",
       "</div>"
      ],
      "text/plain": [
       "           id                          name         street to_street  \\\n",
       "0   310040364      1003-1031 Arlington East  ARLINGTON AVE       NaN   \n",
       "1   947667950       1003-1059 Arlington Ave  ARLINGTON AVE       NaN   \n",
       "2  1758453574       1031-1039 Arlington Ave  ARLINGTON AVE       NaN   \n",
       "3   819232404  1039-1047 Arlington Ave East  ARLINGTON AVE       NaN   \n",
       "4   928916572            1059 Arlington Ave  ARLINGTON AVE       NaN   \n",
       "\n",
       "   year_constructed public_view inactive  height  length  \\\n",
       "0            1940.0           t        f    15.0   310.0   \n",
       "1            1940.0           t        f     8.0   421.0   \n",
       "2            1940.0           t        f    15.0    57.0   \n",
       "3            1940.0           t        f     3.0   121.0   \n",
       "4            1940.0           t        f    10.0    20.0   \n",
       "\n",
       "                                               image neighborhood  \\\n",
       "0  https://tools.wprdc.org/images/pittsburgh/reta...    Allentown   \n",
       "1  https://tools.wprdc.org/images/pittsburgh/reta...    Allentown   \n",
       "2  https://tools.wprdc.org/images/pittsburgh/reta...    Allentown   \n",
       "3  https://tools.wprdc.org/images/pittsburgh/reta...    Allentown   \n",
       "4  https://tools.wprdc.org/images/pittsburgh/reta...    Allentown   \n",
       "\n",
       "   council_district  ward        tract  public_works_division  pli_division  \\\n",
       "0                 3  18.0  42003180300                      5          18.0   \n",
       "1                 3  18.0  42003180300                      5          18.0   \n",
       "2                 3  18.0  42003180300                      5          18.0   \n",
       "3                 3  18.0  42003180300                      5          18.0   \n",
       "4                 3  18.0  42003180300                      5          18.0   \n",
       "\n",
       "   police_zone fire_zone   latitude  longitude  \n",
       "0            3       4-5  40.424295 -79.988339  \n",
       "1            3       4-5  40.423962 -79.988804  \n",
       "2            3       4-5  40.423743 -79.988530  \n",
       "3            3       4-5  40.423507 -79.988868  \n",
       "4            3       4-5  40.423360 -79.989556  "
      ]
     },
     "execution_count": 3,
     "metadata": {},
     "output_type": "execute_result"
    }
   ],
   "source": [
    "retaining_walls = pd.read_csv(\"https://data.wprdc.org/datastore/dump/3e337bde-9997-46fa-b027-481b8f54eb9b\")\n",
    "retaining_walls.head()"
   ]
  },
  {
   "cell_type": "markdown",
   "metadata": {},
   "source": [
    "Everything looks good so far. Oh, look, there's a \"neighborhood\" column! This will make things easy. Let's look at all the neighborhoods first."
   ]
  },
  {
   "cell_type": "code",
   "execution_count": 4,
   "metadata": {},
   "outputs": [
    {
     "data": {
      "text/plain": [
       "array(['Allentown', 'East Carnegie', 'Central Northside',\n",
       "       'South Side Slopes', 'Sheraden', 'Troy Hill', 'Beltzhoover',\n",
       "       'Mount Washington', 'Beechview', 'Upper Hill', 'Elliott',\n",
       "       'Carrick', 'Lincoln-Lemington-Belmar', 'Crafton Heights',\n",
       "       'Duquesne Heights', 'Morningside', 'Stanton Heights', 'Hays',\n",
       "       'Banksville', 'Perry North', 'Squirrel Hill South', 'West Oakland',\n",
       "       'Spring Hill-City View', 'Terrace Village', 'Overbrook',\n",
       "       'Polish Hill', 'Perry South', 'Brookline', 'Manchester',\n",
       "       'Fineview', 'Hazelwood', 'East Allegheny', 'Marshall-Shadeland',\n",
       "       'Westwood', 'Central Oakland', 'Arlington', 'Spring Garden',\n",
       "       'Crawford-Roberts', 'New Homestead', 'Upper Lawrenceville',\n",
       "       'South Shore', 'Bloomfield', 'West End', 'Highland Park',\n",
       "       'St. Clair', 'Greenfield', 'Squirrel Hill North', 'Strip District',\n",
       "       'Point Breeze', 'Oakwood', 'Ridgemont', 'Brighton Heights',\n",
       "       'Garfield', 'California-Kirkbride', 'Knoxville', 'Middle Hill',\n",
       "       'North Oakland', 'Homewood North', 'Lincoln Place', 'East Hills',\n",
       "       'Lower Lawrenceville', 'Mt. Oliver'], dtype=object)"
      ]
     },
     "execution_count": 4,
     "metadata": {},
     "output_type": "execute_result"
    }
   ],
   "source": [
    "retaining_walls[\"neighborhood\"].unique()"
   ]
  },
  {
   "cell_type": "markdown",
   "metadata": {},
   "source": [
    "That's a lot of neighborhoods. Let's find out just how many."
   ]
  },
  {
   "cell_type": "code",
   "execution_count": 5,
   "metadata": {},
   "outputs": [
    {
     "data": {
      "text/plain": [
       "62"
      ]
     },
     "execution_count": 5,
     "metadata": {},
     "output_type": "execute_result"
    }
   ],
   "source": [
    "retaining_walls[\"neighborhood\"].nunique()"
   ]
  },
  {
   "cell_type": "markdown",
   "metadata": {},
   "source": [
    "Interesting. 62 neighborhoods. Just how many retaining walls are there in Pittsburgh?"
   ]
  },
  {
   "cell_type": "code",
   "execution_count": 6,
   "metadata": {},
   "outputs": [
    {
     "data": {
      "text/plain": [
       "416"
      ]
     },
     "execution_count": 6,
     "metadata": {},
     "output_type": "execute_result"
    }
   ],
   "source": [
    "len(retaining_walls)"
   ]
  },
  {
   "cell_type": "markdown",
   "metadata": {},
   "source": [
    "Not too bad. Must be all the hills. They'll be a lot easier to count up in Python pandas. So let's count all the retaining walls for each neighborhood and see where we stand."
   ]
  },
  {
   "cell_type": "code",
   "execution_count": 7,
   "metadata": {},
   "outputs": [
    {
     "data": {
      "text/plain": [
       "South Side Slopes           55\n",
       "Mount Washington            30\n",
       "Squirrel Hill South         22\n",
       "Spring Hill-City View       21\n",
       "Perry South                 18\n",
       "Perry North                 14\n",
       "Allentown                   12\n",
       "Polish Hill                 12\n",
       "Beechview                   12\n",
       "Elliott                     10\n",
       "Highland Park                9\n",
       "Marshall-Shadeland           9\n",
       "Sheraden                     9\n",
       "Greenfield                   8\n",
       "Stanton Heights              8\n",
       "Fineview                     8\n",
       "East Allegheny               7\n",
       "Beltzhoover                  7\n",
       "Hazelwood                    7\n",
       "Banksville                   6\n",
       "Point Breeze                 6\n",
       "Carrick                      6\n",
       "Upper Hill                   6\n",
       "Garfield                     5\n",
       "Arlington                    5\n",
       "West Oakland                 5\n",
       "Brookline                    5\n",
       "Spring Garden                5\n",
       "Morningside                  5\n",
       "Crawford-Roberts             5\n",
       "                            ..\n",
       "Troy Hill                    4\n",
       "Terrace Village              4\n",
       "Hays                         4\n",
       "Duquesne Heights             4\n",
       "Oakwood                      4\n",
       "Central Northside            4\n",
       "Westwood                     3\n",
       "Upper Lawrenceville          3\n",
       "Homewood North               3\n",
       "East Carnegie                3\n",
       "South Shore                  2\n",
       "Lincoln-Lemington-Belmar     2\n",
       "California-Kirkbride         2\n",
       "North Oakland                2\n",
       "Overbrook                    2\n",
       "Lower Lawrenceville          2\n",
       "Strip District               2\n",
       "Squirrel Hill North          2\n",
       "New Homestead                2\n",
       "Lincoln Place                2\n",
       "Crafton Heights              2\n",
       "Knoxville                    2\n",
       "St. Clair                    2\n",
       "Manchester                   1\n",
       "East Hills                   1\n",
       "Central Oakland              1\n",
       "Bloomfield                   1\n",
       "Middle Hill                  1\n",
       "Mt. Oliver                   1\n",
       "Ridgemont                    1\n",
       "Name: neighborhood, Length: 62, dtype: int64"
      ]
     },
     "execution_count": 7,
     "metadata": {},
     "output_type": "execute_result"
    }
   ],
   "source": [
    "retaining_walls[\"neighborhood\"].value_counts()"
   ]
  },
  {
   "cell_type": "markdown",
   "metadata": {},
   "source": [
    "Okay, unfortunately we can't see every neighborhood here. It looks like South Side Slopes is a strong contender. Let's put that information in a graph just to be sure."
   ]
  },
  {
   "cell_type": "code",
   "execution_count": 8,
   "metadata": {},
   "outputs": [
    {
     "data": {
      "text/plain": [
       "<matplotlib.axes._subplots.AxesSubplot at 0x7f2b71cb8940>"
      ]
     },
     "execution_count": 8,
     "metadata": {},
     "output_type": "execute_result"
    },
    {
     "data": {
      "image/png": "[encoded data removed]",
      "text/plain": [
       "<Figure size 432x288 with 1 Axes>"
      ]
     },
     "metadata": {
      "needs_background": "light"
     },
     "output_type": "display_data"
    }
   ],
   "source": [
    "retaining_walls[\"neighborhood\"].value_counts().plot(kind=\"bar\")"
   ]
  },
  {
   "cell_type": "markdown",
   "metadata": {},
   "source": [
    "Okay, I can't read that at all. Let's try this again."
   ]
  },
  {
   "cell_type": "code",
   "execution_count": 9,
   "metadata": {},
   "outputs": [
    {
     "data": {
      "text/plain": [
       "<matplotlib.axes._subplots.AxesSubplot at 0x7f2ba0205cf8>"
      ]
     },
     "execution_count": 9,
     "metadata": {},
     "output_type": "execute_result"
    },
    {
     "data": {
      "image/png": "[encoded data removed]",
      "text/plain": [
       "<Figure size 432x288 with 1 Axes>"
      ]
     },
     "metadata": {
      "needs_background": "light"
     },
     "output_type": "display_data"
    }
   ],
   "source": [
    "retaining_walls[\"neighborhood\"].value_counts().head().plot(kind=\"bar\")"
   ]
  },
  {
   "cell_type": "markdown",
   "metadata": {},
   "source": [
    "Perfect! A top 5 lineup! Looks like South Side Slopes is in the lead by a large margin.\n",
    "\n",
    "But wait - not all retaining walls are equal! Some of them look like this:\n",
    "\n",
    "![crappy-retaining-wall](https://tools.wprdc.org/images/pittsburgh/retaining_walls/Andick_Way.jpg)\n",
    "\n",
    "Yeah, that's not saving your life in any zombie apocalypse. It'll trip you up before it'll act as a natural barrier against the advancing horde. So we need some criteria. Clearly we can't just count every wall.\n",
    "\n",
    "Most NBA basketball players have a reach height of around 8 feet. Some zombies may be taller, but they slouch.\n",
    "\n",
    "![zombie-slouch](https://partycity6.scene7.com/is/image/PartyCity/_pdp_sq_?$_500x500_$&$product=PartyCity/815658)\n",
    "\n",
    "Terrible posture, zombie. Get it together.\n",
    "\n",
    "So we can assume that any retaining walls higher than 8 feet are probably pretty good natural barriers. Let's rerun the stats with that criteria.\n",
    "\n",
    "Is there a height column or something we can use to filter out our data?"
   ]
  },
  {
   "cell_type": "code",
   "execution_count": 10,
   "metadata": {},
   "outputs": [
    {
     "data": {
      "text/html": [
       "<div>\n",
       "<style scoped>\n",
       "    .dataframe tbody tr th:only-of-type {\n",
       "        vertical-align: middle;\n",
       "    }\n",
       "\n",
       "    .dataframe tbody tr th {\n",
       "        vertical-align: top;\n",
       "    }\n",
       "\n",
       "    .dataframe thead th {\n",
       "        text-align: right;\n",
       "    }\n",
       "</style>\n",
       "<table border=\"1\" class=\"dataframe\">\n",
       "  <thead>\n",
       "    <tr style=\"text-align: right;\">\n",
       "      <th></th>\n",
       "      <th>id</th>\n",
       "      <th>name</th>\n",
       "      <th>street</th>\n",
       "      <th>to_street</th>\n",
       "      <th>year_constructed</th>\n",
       "      <th>public_view</th>\n",
       "      <th>inactive</th>\n",
       "      <th>height</th>\n",
       "      <th>length</th>\n",
       "      <th>image</th>\n",
       "      <th>neighborhood</th>\n",
       "      <th>council_district</th>\n",
       "      <th>ward</th>\n",
       "      <th>tract</th>\n",
       "      <th>public_works_division</th>\n",
       "      <th>pli_division</th>\n",
       "      <th>police_zone</th>\n",
       "      <th>fire_zone</th>\n",
       "      <th>latitude</th>\n",
       "      <th>longitude</th>\n",
       "    </tr>\n",
       "  </thead>\n",
       "  <tbody>\n",
       "    <tr>\n",
       "      <th>0</th>\n",
       "      <td>310040364</td>\n",
       "      <td>1003-1031 Arlington East</td>\n",
       "      <td>ARLINGTON AVE</td>\n",
       "      <td>NaN</td>\n",
       "      <td>1940.0</td>\n",
       "      <td>t</td>\n",
       "      <td>f</td>\n",
       "      <td>15.0</td>\n",
       "      <td>310.0</td>\n",
       "      <td>https://tools.wprdc.org/images/pittsburgh/reta...</td>\n",
       "      <td>Allentown</td>\n",
       "      <td>3</td>\n",
       "      <td>18.0</td>\n",
       "      <td>42003180300</td>\n",
       "      <td>5</td>\n",
       "      <td>18.0</td>\n",
       "      <td>3</td>\n",
       "      <td>4-5</td>\n",
       "      <td>40.424295</td>\n",
       "      <td>-79.988339</td>\n",
       "    </tr>\n",
       "    <tr>\n",
       "      <th>1</th>\n",
       "      <td>947667950</td>\n",
       "      <td>1003-1059 Arlington Ave</td>\n",
       "      <td>ARLINGTON AVE</td>\n",
       "      <td>NaN</td>\n",
       "      <td>1940.0</td>\n",
       "      <td>t</td>\n",
       "      <td>f</td>\n",
       "      <td>8.0</td>\n",
       "      <td>421.0</td>\n",
       "      <td>https://tools.wprdc.org/images/pittsburgh/reta...</td>\n",
       "      <td>Allentown</td>\n",
       "      <td>3</td>\n",
       "      <td>18.0</td>\n",
       "      <td>42003180300</td>\n",
       "      <td>5</td>\n",
       "      <td>18.0</td>\n",
       "      <td>3</td>\n",
       "      <td>4-5</td>\n",
       "      <td>40.423962</td>\n",
       "      <td>-79.988804</td>\n",
       "    </tr>\n",
       "    <tr>\n",
       "      <th>2</th>\n",
       "      <td>1758453574</td>\n",
       "      <td>1031-1039 Arlington Ave</td>\n",
       "      <td>ARLINGTON AVE</td>\n",
       "      <td>NaN</td>\n",
       "      <td>1940.0</td>\n",
       "      <td>t</td>\n",
       "      <td>f</td>\n",
       "      <td>15.0</td>\n",
       "      <td>57.0</td>\n",
       "      <td>https://tools.wprdc.org/images/pittsburgh/reta...</td>\n",
       "      <td>Allentown</td>\n",
       "      <td>3</td>\n",
       "      <td>18.0</td>\n",
       "      <td>42003180300</td>\n",
       "      <td>5</td>\n",
       "      <td>18.0</td>\n",
       "      <td>3</td>\n",
       "      <td>4-5</td>\n",
       "      <td>40.423743</td>\n",
       "      <td>-79.988530</td>\n",
       "    </tr>\n",
       "    <tr>\n",
       "      <th>3</th>\n",
       "      <td>819232404</td>\n",
       "      <td>1039-1047 Arlington Ave East</td>\n",
       "      <td>ARLINGTON AVE</td>\n",
       "      <td>NaN</td>\n",
       "      <td>1940.0</td>\n",
       "      <td>t</td>\n",
       "      <td>f</td>\n",
       "      <td>3.0</td>\n",
       "      <td>121.0</td>\n",
       "      <td>https://tools.wprdc.org/images/pittsburgh/reta...</td>\n",
       "      <td>Allentown</td>\n",
       "      <td>3</td>\n",
       "      <td>18.0</td>\n",
       "      <td>42003180300</td>\n",
       "      <td>5</td>\n",
       "      <td>18.0</td>\n",
       "      <td>3</td>\n",
       "      <td>4-5</td>\n",
       "      <td>40.423507</td>\n",
       "      <td>-79.988868</td>\n",
       "    </tr>\n",
       "    <tr>\n",
       "      <th>4</th>\n",
       "      <td>928916572</td>\n",
       "      <td>1059 Arlington Ave</td>\n",
       "      <td>ARLINGTON AVE</td>\n",
       "      <td>NaN</td>\n",
       "      <td>1940.0</td>\n",
       "      <td>t</td>\n",
       "      <td>f</td>\n",
       "      <td>10.0</td>\n",
       "      <td>20.0</td>\n",
       "      <td>https://tools.wprdc.org/images/pittsburgh/reta...</td>\n",
       "      <td>Allentown</td>\n",
       "      <td>3</td>\n",
       "      <td>18.0</td>\n",
       "      <td>42003180300</td>\n",
       "      <td>5</td>\n",
       "      <td>18.0</td>\n",
       "      <td>3</td>\n",
       "      <td>4-5</td>\n",
       "      <td>40.423360</td>\n",
       "      <td>-79.989556</td>\n",
       "    </tr>\n",
       "  </tbody>\n",
       "</table>\n",
       "</div>"
      ],
      "text/plain": [
       "           id                          name         street to_street  \\\n",
       "0   310040364      1003-1031 Arlington East  ARLINGTON AVE       NaN   \n",
       "1   947667950       1003-1059 Arlington Ave  ARLINGTON AVE       NaN   \n",
       "2  1758453574       1031-1039 Arlington Ave  ARLINGTON AVE       NaN   \n",
       "3   819232404  1039-1047 Arlington Ave East  ARLINGTON AVE       NaN   \n",
       "4   928916572            1059 Arlington Ave  ARLINGTON AVE       NaN   \n",
       "\n",
       "   year_constructed public_view inactive  height  length  \\\n",
       "0            1940.0           t        f    15.0   310.0   \n",
       "1            1940.0           t        f     8.0   421.0   \n",
       "2            1940.0           t        f    15.0    57.0   \n",
       "3            1940.0           t        f     3.0   121.0   \n",
       "4            1940.0           t        f    10.0    20.0   \n",
       "\n",
       "                                               image neighborhood  \\\n",
       "0  https://tools.wprdc.org/images/pittsburgh/reta...    Allentown   \n",
       "1  https://tools.wprdc.org/images/pittsburgh/reta...    Allentown   \n",
       "2  https://tools.wprdc.org/images/pittsburgh/reta...    Allentown   \n",
       "3  https://tools.wprdc.org/images/pittsburgh/reta...    Allentown   \n",
       "4  https://tools.wprdc.org/images/pittsburgh/reta...    Allentown   \n",
       "\n",
       "   council_district  ward        tract  public_works_division  pli_division  \\\n",
       "0                 3  18.0  42003180300                      5          18.0   \n",
       "1                 3  18.0  42003180300                      5          18.0   \n",
       "2                 3  18.0  42003180300                      5          18.0   \n",
       "3                 3  18.0  42003180300                      5          18.0   \n",
       "4                 3  18.0  42003180300                      5          18.0   \n",
       "\n",
       "   police_zone fire_zone   latitude  longitude  \n",
       "0            3       4-5  40.424295 -79.988339  \n",
       "1            3       4-5  40.423962 -79.988804  \n",
       "2            3       4-5  40.423743 -79.988530  \n",
       "3            3       4-5  40.423507 -79.988868  \n",
       "4            3       4-5  40.423360 -79.989556  "
      ]
     },
     "execution_count": 10,
     "metadata": {},
     "output_type": "execute_result"
    }
   ],
   "source": [
    "retaining_walls.head()"
   ]
  },
  {
   "cell_type": "markdown",
   "metadata": {},
   "source": [
    "Yes, there is! Okay, we'll use that."
   ]
  },
  {
   "cell_type": "code",
   "execution_count": 18,
   "metadata": {},
   "outputs": [
    {
     "data": {
      "text/html": [
       "<div>\n",
       "<style scoped>\n",
       "    .dataframe tbody tr th:only-of-type {\n",
       "        vertical-align: middle;\n",
       "    }\n",
       "\n",
       "    .dataframe tbody tr th {\n",
       "        vertical-align: top;\n",
       "    }\n",
       "\n",
       "    .dataframe thead th {\n",
       "        text-align: right;\n",
       "    }\n",
       "</style>\n",
       "<table border=\"1\" class=\"dataframe\">\n",
       "  <thead>\n",
       "    <tr style=\"text-align: right;\">\n",
       "      <th></th>\n",
       "      <th>id</th>\n",
       "      <th>name</th>\n",
       "      <th>street</th>\n",
       "      <th>to_street</th>\n",
       "      <th>year_constructed</th>\n",
       "      <th>public_view</th>\n",
       "      <th>inactive</th>\n",
       "      <th>height</th>\n",
       "      <th>length</th>\n",
       "      <th>image</th>\n",
       "      <th>neighborhood</th>\n",
       "      <th>council_district</th>\n",
       "      <th>ward</th>\n",
       "      <th>tract</th>\n",
       "      <th>public_works_division</th>\n",
       "      <th>pli_division</th>\n",
       "      <th>police_zone</th>\n",
       "      <th>fire_zone</th>\n",
       "      <th>latitude</th>\n",
       "      <th>longitude</th>\n",
       "    </tr>\n",
       "  </thead>\n",
       "  <tbody>\n",
       "    <tr>\n",
       "      <th>0</th>\n",
       "      <td>310040364</td>\n",
       "      <td>1003-1031 Arlington East</td>\n",
       "      <td>ARLINGTON AVE</td>\n",
       "      <td>NaN</td>\n",
       "      <td>1940.0</td>\n",
       "      <td>t</td>\n",
       "      <td>f</td>\n",
       "      <td>15.0</td>\n",
       "      <td>310.0</td>\n",
       "      <td>https://tools.wprdc.org/images/pittsburgh/reta...</td>\n",
       "      <td>Allentown</td>\n",
       "      <td>3</td>\n",
       "      <td>18.0</td>\n",
       "      <td>42003180300</td>\n",
       "      <td>5</td>\n",
       "      <td>18.0</td>\n",
       "      <td>3</td>\n",
       "      <td>4-5</td>\n",
       "      <td>40.424295</td>\n",
       "      <td>-79.988339</td>\n",
       "    </tr>\n",
       "    <tr>\n",
       "      <th>1</th>\n",
       "      <td>947667950</td>\n",
       "      <td>1003-1059 Arlington Ave</td>\n",
       "      <td>ARLINGTON AVE</td>\n",
       "      <td>NaN</td>\n",
       "      <td>1940.0</td>\n",
       "      <td>t</td>\n",
       "      <td>f</td>\n",
       "      <td>8.0</td>\n",
       "      <td>421.0</td>\n",
       "      <td>https://tools.wprdc.org/images/pittsburgh/reta...</td>\n",
       "      <td>Allentown</td>\n",
       "      <td>3</td>\n",
       "      <td>18.0</td>\n",
       "      <td>42003180300</td>\n",
       "      <td>5</td>\n",
       "      <td>18.0</td>\n",
       "      <td>3</td>\n",
       "      <td>4-5</td>\n",
       "      <td>40.423962</td>\n",
       "      <td>-79.988804</td>\n",
       "    </tr>\n",
       "    <tr>\n",
       "      <th>2</th>\n",
       "      <td>1758453574</td>\n",
       "      <td>1031-1039 Arlington Ave</td>\n",
       "      <td>ARLINGTON AVE</td>\n",
       "      <td>NaN</td>\n",
       "      <td>1940.0</td>\n",
       "      <td>t</td>\n",
       "      <td>f</td>\n",
       "      <td>15.0</td>\n",
       "      <td>57.0</td>\n",
       "      <td>https://tools.wprdc.org/images/pittsburgh/reta...</td>\n",
       "      <td>Allentown</td>\n",
       "      <td>3</td>\n",
       "      <td>18.0</td>\n",
       "      <td>42003180300</td>\n",
       "      <td>5</td>\n",
       "      <td>18.0</td>\n",
       "      <td>3</td>\n",
       "      <td>4-5</td>\n",
       "      <td>40.423743</td>\n",
       "      <td>-79.988530</td>\n",
       "    </tr>\n",
       "    <tr>\n",
       "      <th>4</th>\n",
       "      <td>928916572</td>\n",
       "      <td>1059 Arlington Ave</td>\n",
       "      <td>ARLINGTON AVE</td>\n",
       "      <td>NaN</td>\n",
       "      <td>1940.0</td>\n",
       "      <td>t</td>\n",
       "      <td>f</td>\n",
       "      <td>10.0</td>\n",
       "      <td>20.0</td>\n",
       "      <td>https://tools.wprdc.org/images/pittsburgh/reta...</td>\n",
       "      <td>Allentown</td>\n",
       "      <td>3</td>\n",
       "      <td>18.0</td>\n",
       "      <td>42003180300</td>\n",
       "      <td>5</td>\n",
       "      <td>18.0</td>\n",
       "      <td>3</td>\n",
       "      <td>4-5</td>\n",
       "      <td>40.423360</td>\n",
       "      <td>-79.989556</td>\n",
       "    </tr>\n",
       "    <tr>\n",
       "      <th>12</th>\n",
       "      <td>1707274409</td>\n",
       "      <td>815-907 Arlington Ave E</td>\n",
       "      <td>ARLINGTON AVE</td>\n",
       "      <td>NaN</td>\n",
       "      <td>1940.0</td>\n",
       "      <td>t</td>\n",
       "      <td>f</td>\n",
       "      <td>14.0</td>\n",
       "      <td>217.0</td>\n",
       "      <td>https://tools.wprdc.org/images/pittsburgh/reta...</td>\n",
       "      <td>South Side Slopes</td>\n",
       "      <td>3</td>\n",
       "      <td>17.0</td>\n",
       "      <td>42003170600</td>\n",
       "      <td>3</td>\n",
       "      <td>17.0</td>\n",
       "      <td>3</td>\n",
       "      <td>4-5</td>\n",
       "      <td>40.425561</td>\n",
       "      <td>-79.990675</td>\n",
       "    </tr>\n",
       "  </tbody>\n",
       "</table>\n",
       "</div>"
      ],
      "text/plain": [
       "            id                      name         street to_street  \\\n",
       "0    310040364  1003-1031 Arlington East  ARLINGTON AVE       NaN   \n",
       "1    947667950   1003-1059 Arlington Ave  ARLINGTON AVE       NaN   \n",
       "2   1758453574   1031-1039 Arlington Ave  ARLINGTON AVE       NaN   \n",
       "4    928916572        1059 Arlington Ave  ARLINGTON AVE       NaN   \n",
       "12  1707274409   815-907 Arlington Ave E  ARLINGTON AVE       NaN   \n",
       "\n",
       "    year_constructed public_view inactive  height  length  \\\n",
       "0             1940.0           t        f    15.0   310.0   \n",
       "1             1940.0           t        f     8.0   421.0   \n",
       "2             1940.0           t        f    15.0    57.0   \n",
       "4             1940.0           t        f    10.0    20.0   \n",
       "12            1940.0           t        f    14.0   217.0   \n",
       "\n",
       "                                                image       neighborhood  \\\n",
       "0   https://tools.wprdc.org/images/pittsburgh/reta...          Allentown   \n",
       "1   https://tools.wprdc.org/images/pittsburgh/reta...          Allentown   \n",
       "2   https://tools.wprdc.org/images/pittsburgh/reta...          Allentown   \n",
       "4   https://tools.wprdc.org/images/pittsburgh/reta...          Allentown   \n",
       "12  https://tools.wprdc.org/images/pittsburgh/reta...  South Side Slopes   \n",
       "\n",
       "    council_district  ward        tract  public_works_division  pli_division  \\\n",
       "0                  3  18.0  42003180300                      5          18.0   \n",
       "1                  3  18.0  42003180300                      5          18.0   \n",
       "2                  3  18.0  42003180300                      5          18.0   \n",
       "4                  3  18.0  42003180300                      5          18.0   \n",
       "12                 3  17.0  42003170600                      3          17.0   \n",
       "\n",
       "    police_zone fire_zone   latitude  longitude  \n",
       "0             3       4-5  40.424295 -79.988339  \n",
       "1             3       4-5  40.423962 -79.988804  \n",
       "2             3       4-5  40.423743 -79.988530  \n",
       "4             3       4-5  40.423360 -79.989556  \n",
       "12            3       4-5  40.425561 -79.990675  "
      ]
     },
     "execution_count": 18,
     "metadata": {},
     "output_type": "execute_result"
    }
   ],
   "source": [
    "tall_enough = retaining_walls[\"height\"] >= 8\n",
    "retaining_walls_tall = retaining_walls[tall_enough]\n",
    "\n",
    "retaining_walls_tall.head()"
   ]
  },
  {
   "cell_type": "markdown",
   "metadata": {},
   "source": [
    "That looks right. Let's count them up..."
   ]
  },
  {
   "cell_type": "code",
   "execution_count": 12,
   "metadata": {},
   "outputs": [
    {
     "data": {
      "text/plain": [
       "South Side Slopes        12\n",
       "East Allegheny            6\n",
       "Allentown                 6\n",
       "Perry South               5\n",
       "Mount Washington          4\n",
       "Banksville                4\n",
       "West End                  4\n",
       "Morningside               4\n",
       "Squirrel Hill South       3\n",
       "Beechview                 3\n",
       "Upper Hill                3\n",
       "Spring Hill-City View     3\n",
       "Beltzhoover               3\n",
       "Stanton Heights           3\n",
       "Fineview                  3\n",
       "Perry North               3\n",
       "Greenfield                3\n",
       "Marshall-Shadeland        2\n",
       "Troy Hill                 2\n",
       "Brookline                 2\n",
       "Polish Hill               2\n",
       "Elliott                   2\n",
       "Spring Garden             2\n",
       "South Shore               1\n",
       "Brighton Heights          1\n",
       "Crawford-Roberts          1\n",
       "Hazelwood                 1\n",
       "Highland Park             1\n",
       "Crafton Heights           1\n",
       "East Carnegie             1\n",
       "Sheraden                  1\n",
       "Hays                      1\n",
       "Name: neighborhood, dtype: int64"
      ]
     },
     "execution_count": 12,
     "metadata": {},
     "output_type": "execute_result"
    }
   ],
   "source": [
    "retaining_walls_tall[\"neighborhood\"].value_counts()"
   ]
  },
  {
   "cell_type": "markdown",
   "metadata": {},
   "source": [
    "...and graph them again."
   ]
  },
  {
   "cell_type": "code",
   "execution_count": 13,
   "metadata": {},
   "outputs": [
    {
     "data": {
      "text/plain": [
       "<matplotlib.axes._subplots.AxesSubplot at 0x7f2b717b7908>"
      ]
     },
     "execution_count": 13,
     "metadata": {},
     "output_type": "execute_result"
    },
    {
     "data": {
      "image/png": "[encoded data removed]",
      "text/plain": [
       "<Figure size 432x288 with 1 Axes>"
      ]
     },
     "metadata": {
      "needs_background": "light"
     },
     "output_type": "display_data"
    }
   ],
   "source": [
    "retaining_walls_tall[\"neighborhood\"].value_counts().head().plot(kind=\"bar\")"
   ]
  },
  {
   "cell_type": "markdown",
   "metadata": {},
   "source": [
    "Looks like South Side Slopes still has the largest number of viable retaining walls, after we parsed out the unhelpful ones. However, Allentown and East Allegheny made the Top 5 with this criteria, knocking out Mount Washington and Squirrel Hill South, and Perry South rose up one spot in the leaderboard, making room for Morningside to come in at #5.\n",
    "\n",
    "Great! South Side Slopes is looking really strong so far! Let's see how it goes from here and move on to the next section! We'll worry about putting the values into the equation at the end of this presentation."
   ]
  },
  {
   "cell_type": "markdown",
   "metadata": {},
   "source": [
    "Next, we'll take a look at the trees."
   ]
  },
  {
   "cell_type": "code",
   "execution_count": 15,
   "metadata": {},
   "outputs": [
    {
     "name": "stderr",
     "output_type": "stream",
     "text": [
      "/ihome/crc/install/python/miniconda3-3.7/lib/python3.7/site-packages/IPython/core/interactiveshell.py:2785: DtypeWarning: Columns (1) have mixed types. Specify dtype option on import or set low_memory=False.\n",
      "  interactivity=interactivity, compiler=compiler, result=result)\n"
     ]
    },
    {
     "data": {
      "text/html": [
       "<div>\n",
       "<style scoped>\n",
       "    .dataframe tbody tr th:only-of-type {\n",
       "        vertical-align: middle;\n",
       "    }\n",
       "\n",
       "    .dataframe tbody tr th {\n",
       "        vertical-align: top;\n",
       "    }\n",
       "\n",
       "    .dataframe thead th {\n",
       "        text-align: right;\n",
       "    }\n",
       "</style>\n",
       "<table border=\"1\" class=\"dataframe\">\n",
       "  <thead>\n",
       "    <tr style=\"text-align: right;\">\n",
       "      <th></th>\n",
       "      <th>id</th>\n",
       "      <th>address_number</th>\n",
       "      <th>street</th>\n",
       "      <th>common_name</th>\n",
       "      <th>scientific_name</th>\n",
       "      <th>height</th>\n",
       "      <th>width</th>\n",
       "      <th>growth_space_length</th>\n",
       "      <th>growth_space_width</th>\n",
       "      <th>growth_space_type</th>\n",
       "      <th>...</th>\n",
       "      <th>neighborhood</th>\n",
       "      <th>council_district</th>\n",
       "      <th>ward</th>\n",
       "      <th>tract</th>\n",
       "      <th>public_works_division</th>\n",
       "      <th>pli_division</th>\n",
       "      <th>police_zone</th>\n",
       "      <th>fire_zone</th>\n",
       "      <th>latitude</th>\n",
       "      <th>longitude</th>\n",
       "    </tr>\n",
       "  </thead>\n",
       "  <tbody>\n",
       "    <tr>\n",
       "      <th>0</th>\n",
       "      <td>754166088</td>\n",
       "      <td>7428</td>\n",
       "      <td>MONTICELLO ST</td>\n",
       "      <td>Stump</td>\n",
       "      <td>Stump</td>\n",
       "      <td>0.0</td>\n",
       "      <td>0.0</td>\n",
       "      <td>10.0</td>\n",
       "      <td>2.0</td>\n",
       "      <td>Well or Pit</td>\n",
       "      <td>...</td>\n",
       "      <td>Homewood North</td>\n",
       "      <td>9.0</td>\n",
       "      <td>13.0</td>\n",
       "      <td>4.200313e+10</td>\n",
       "      <td>2.0</td>\n",
       "      <td>13.0</td>\n",
       "      <td>5.0</td>\n",
       "      <td>3-17</td>\n",
       "      <td>40.458169</td>\n",
       "      <td>-79.889724</td>\n",
       "    </tr>\n",
       "    <tr>\n",
       "      <th>1</th>\n",
       "      <td>1946899269</td>\n",
       "      <td>220</td>\n",
       "      <td>BALVER AVE</td>\n",
       "      <td>Linden: Littleleaf</td>\n",
       "      <td>Tilia cordata</td>\n",
       "      <td>0.0</td>\n",
       "      <td>0.0</td>\n",
       "      <td>99.0</td>\n",
       "      <td>99.0</td>\n",
       "      <td>Open or Unrestricted</td>\n",
       "      <td>...</td>\n",
       "      <td>Oakwood</td>\n",
       "      <td>2.0</td>\n",
       "      <td>28.0</td>\n",
       "      <td>4.200356e+10</td>\n",
       "      <td>5.0</td>\n",
       "      <td>28.0</td>\n",
       "      <td>6.0</td>\n",
       "      <td>1-19</td>\n",
       "      <td>40.429269</td>\n",
       "      <td>-80.067868</td>\n",
       "    </tr>\n",
       "    <tr>\n",
       "      <th>2</th>\n",
       "      <td>1431517397</td>\n",
       "      <td>2822</td>\n",
       "      <td>SIDNEY ST</td>\n",
       "      <td>Maple: Red</td>\n",
       "      <td>Acer rubrum</td>\n",
       "      <td>22.0</td>\n",
       "      <td>6.0</td>\n",
       "      <td>6.0</td>\n",
       "      <td>3.0</td>\n",
       "      <td>Well or Pit</td>\n",
       "      <td>...</td>\n",
       "      <td>South Side Flats</td>\n",
       "      <td>3.0</td>\n",
       "      <td>16.0</td>\n",
       "      <td>4.200316e+10</td>\n",
       "      <td>3.0</td>\n",
       "      <td>16.0</td>\n",
       "      <td>3.0</td>\n",
       "      <td>4-24</td>\n",
       "      <td>40.426797</td>\n",
       "      <td>-79.965035</td>\n",
       "    </tr>\n",
       "    <tr>\n",
       "      <th>3</th>\n",
       "      <td>994063598</td>\n",
       "      <td>608</td>\n",
       "      <td>SUISMON ST</td>\n",
       "      <td>Maple: Freeman</td>\n",
       "      <td>Acer x freemanii</td>\n",
       "      <td>25.0</td>\n",
       "      <td>10.0</td>\n",
       "      <td>3.0</td>\n",
       "      <td>3.0</td>\n",
       "      <td>Well or Pit</td>\n",
       "      <td>...</td>\n",
       "      <td>East Allegheny</td>\n",
       "      <td>1.0</td>\n",
       "      <td>23.0</td>\n",
       "      <td>4.200356e+10</td>\n",
       "      <td>1.0</td>\n",
       "      <td>23.0</td>\n",
       "      <td>1.0</td>\n",
       "      <td>1-6</td>\n",
       "      <td>40.455503</td>\n",
       "      <td>-79.999276</td>\n",
       "    </tr>\n",
       "    <tr>\n",
       "      <th>4</th>\n",
       "      <td>1591838573</td>\n",
       "      <td>1135</td>\n",
       "      <td>N NEGLEY AVE</td>\n",
       "      <td>Maple: Norway</td>\n",
       "      <td>Acer platanoides</td>\n",
       "      <td>52.0</td>\n",
       "      <td>13.0</td>\n",
       "      <td>99.0</td>\n",
       "      <td>99.0</td>\n",
       "      <td>Open or Unrestricted</td>\n",
       "      <td>...</td>\n",
       "      <td>Highland Park</td>\n",
       "      <td>7.0</td>\n",
       "      <td>11.0</td>\n",
       "      <td>4.200311e+10</td>\n",
       "      <td>2.0</td>\n",
       "      <td>11.0</td>\n",
       "      <td>5.0</td>\n",
       "      <td>3-9</td>\n",
       "      <td>40.476667</td>\n",
       "      <td>-79.924106</td>\n",
       "    </tr>\n",
       "  </tbody>\n",
       "</table>\n",
       "<p>5 rows × 58 columns</p>\n",
       "</div>"
      ],
      "text/plain": [
       "           id address_number         street         common_name  \\\n",
       "0   754166088           7428  MONTICELLO ST               Stump   \n",
       "1  1946899269            220     BALVER AVE  Linden: Littleleaf   \n",
       "2  1431517397           2822      SIDNEY ST          Maple: Red   \n",
       "3   994063598            608     SUISMON ST      Maple: Freeman   \n",
       "4  1591838573           1135   N NEGLEY AVE       Maple: Norway   \n",
       "\n",
       "    scientific_name  height  width  growth_space_length  growth_space_width  \\\n",
       "0             Stump     0.0    0.0                 10.0                 2.0   \n",
       "1     Tilia cordata     0.0    0.0                 99.0                99.0   \n",
       "2       Acer rubrum    22.0    6.0                  6.0                 3.0   \n",
       "3  Acer x freemanii    25.0   10.0                  3.0                 3.0   \n",
       "4  Acer platanoides    52.0   13.0                 99.0                99.0   \n",
       "\n",
       "      growth_space_type    ...          neighborhood  council_district  ward  \\\n",
       "0           Well or Pit    ...        Homewood North               9.0  13.0   \n",
       "1  Open or Unrestricted    ...               Oakwood               2.0  28.0   \n",
       "2           Well or Pit    ...      South Side Flats               3.0  16.0   \n",
       "3           Well or Pit    ...        East Allegheny               1.0  23.0   \n",
       "4  Open or Unrestricted    ...         Highland Park               7.0  11.0   \n",
       "\n",
       "          tract public_works_division  pli_division  police_zone  fire_zone  \\\n",
       "0  4.200313e+10                   2.0          13.0          5.0       3-17   \n",
       "1  4.200356e+10                   5.0          28.0          6.0       1-19   \n",
       "2  4.200316e+10                   3.0          16.0          3.0       4-24   \n",
       "3  4.200356e+10                   1.0          23.0          1.0        1-6   \n",
       "4  4.200311e+10                   2.0          11.0          5.0        3-9   \n",
       "\n",
       "    latitude  longitude  \n",
       "0  40.458169 -79.889724  \n",
       "1  40.429269 -80.067868  \n",
       "2  40.426797 -79.965035  \n",
       "3  40.455503 -79.999276  \n",
       "4  40.476667 -79.924106  \n",
       "\n",
       "[5 rows x 58 columns]"
      ]
     },
     "execution_count": 15,
     "metadata": {},
     "output_type": "execute_result"
    }
   ],
   "source": [
    "trees = pd.read_csv(\"https://data.wprdc.org/datastore/dump/1515a93c-73e3-4425-9b35-1cd11b2196da\")\n",
    "trees.head()"
   ]
  },
  {
   "cell_type": "markdown",
   "metadata": {},
   "source": [
    "Ignore the warning, that's just letting us know some of the columns have different types for different rows. It won't affect what we want to do with the database.\n",
    "\n",
    "Alright, let's check that we have the same neighborhoods."
   ]
  },
  {
   "cell_type": "code",
   "execution_count": 16,
   "metadata": {},
   "outputs": [
    {
     "data": {
      "text/plain": [
       "array(['Homewood North', 'Oakwood', 'South Side Flats', 'East Allegheny',\n",
       "       'Highland Park', 'Stanton Heights', 'Sheraden', 'Chartiers City',\n",
       "       'Elliott', 'Morningside', 'Bloomfield', 'Friendship', 'Garfield',\n",
       "       'Polish Hill', 'Lower Lawrenceville', 'Central Northside',\n",
       "       'East Liberty', 'Central Lawrenceville', 'Shadyside',\n",
       "       'Allegheny Center', 'Homewood South', 'Point Breeze North',\n",
       "       'East Hills', 'Homewood West', 'Greenfield', 'Hazelwood',\n",
       "       'Squirrel Hill South', 'Marshall-Shadeland', 'Brighton Heights',\n",
       "       'North Shore', 'Overbrook', 'Knoxville', 'Brookline',\n",
       "       'South Side Slopes', 'Arlington', 'Arlington Heights', 'Carrick',\n",
       "       'Bedford Dwellings', 'Central Business District', 'Bluff',\n",
       "       'West Oakland', 'South Oakland', 'Squirrel Hill North',\n",
       "       'Point Breeze', 'Lincoln-Lemington-Belmar', 'Bon Air',\n",
       "       'Mount Washington', 'California-Kirkbride', 'New Homestead',\n",
       "       'Central Oakland', 'Crafton Heights', 'Beechview', 'Manchester',\n",
       "       'Allentown', 'Beltzhoover', 'Allegheny West', 'Chateau',\n",
       "       'Duquesne Heights', 'Perry North', 'Perry South', 'Middle Hill',\n",
       "       'Troy Hill', 'Terrace Village', 'Upper Hill', 'North Oakland',\n",
       "       'Fineview', 'Strip District', 'Windgap', 'Crawford-Roberts',\n",
       "       'Larimer', 'Lincoln Place', 'Regent Square', 'Banksville',\n",
       "       'Swisshelm Park', 'Spring Garden', 'Spring Hill-City View',\n",
       "       'Westwood', 'Fairywood', 'Summer Hill', 'West End',\n",
       "       'Upper Lawrenceville', 'Ridgemont', 'Esplen', 'East Carnegie',\n",
       "       'South Shore', 'St. Clair', 'Mt. Oliver', 'Northview Heights', nan,\n",
       "       'Glen Hazel', 'Hays'], dtype=object)"
      ]
     },
     "execution_count": 16,
     "metadata": {},
     "output_type": "execute_result"
    }
   ],
   "source": [
    "trees[\"neighborhood\"].unique()"
   ]
  },
  {
   "cell_type": "markdown",
   "metadata": {},
   "source": [
    "And do we have the same number as before?"
   ]
  },
  {
   "cell_type": "code",
   "execution_count": 17,
   "metadata": {},
   "outputs": [
    {
     "data": {
      "text/plain": [
       "90"
      ]
     },
     "execution_count": 17,
     "metadata": {},
     "output_type": "execute_result"
    }
   ],
   "source": [
    "trees[\"neighborhood\"].nunique()"
   ]
  },
  {
   "cell_type": "markdown",
   "metadata": {},
   "source": [
    "Oh, no we don't. There are 28 more neighborhoods identified in the trees database than we have in the retaining walls database. This won't be too much of a problem, though; trees are given a weight of .2 in our equation, and if there's a neighborhood here that has a lot of trees but no retaining walls, it shouldn't come too near the top. If it does, maybe all those trees really do make it that much safer.\n",
    "\n",
    "Okay, so how many trees do we have?"
   ]
  },
  {
   "cell_type": "code",
   "execution_count": 19,
   "metadata": {},
   "outputs": [
    {
     "data": {
      "text/plain": [
       "45621"
      ]
     },
     "execution_count": 19,
     "metadata": {},
     "output_type": "execute_result"
    }
   ],
   "source": [
    "len(trees)"
   ]
  },
  {
   "cell_type": "markdown",
   "metadata": {},
   "source": [
    "Oh, okay. 45,000. We definitely want to use Python for this.\n",
    "\n",
    "Which neighborhoods have the most trees?"
   ]
  },
  {
   "cell_type": "code",
   "execution_count": 23,
   "metadata": {},
   "outputs": [
    {
     "data": {
      "text/plain": [
       "Squirrel Hill South          5073\n",
       "Highland Park                2941\n",
       "Squirrel Hill North          2079\n",
       "South Side Flats             1693\n",
       "Shadyside                    1558\n",
       "Bloomfield                   1436\n",
       "East Liberty                 1366\n",
       "Point Breeze                 1316\n",
       "Perry North                  1007\n",
       "Central Business District    1002\n",
       "Brighton Heights              910\n",
       "Mount Washington              874\n",
       "Allegheny Center              867\n",
       "Brookline                     853\n",
       "North Oakland                 775\n",
       "Carrick                       772\n",
       "Greenfield                    745\n",
       "Central Lawrenceville         713\n",
       "Manchester                    707\n",
       "Stanton Heights               700\n",
       "Central Northside             674\n",
       "Garfield                      626\n",
       "Beechview                     611\n",
       "Hazelwood                     574\n",
       "Crawford-Roberts              568\n",
       "Point Breeze North            565\n",
       "Lincoln-Lemington-Belmar      523\n",
       "Lower Lawrenceville           508\n",
       "Marshall-Shadeland            488\n",
       "Strip District                486\n",
       "                             ... \n",
       "New Homestead                 183\n",
       "Upper Hill                    179\n",
       "Elliott                       171\n",
       "Beltzhoover                   170\n",
       "West End                      131\n",
       "Windgap                       117\n",
       "Spring Hill-City View         114\n",
       "Arlington                     107\n",
       "Duquesne Heights              101\n",
       "California-Kirkbride           94\n",
       "Bon Air                        92\n",
       "Homewood West                  92\n",
       "Oakwood                        92\n",
       "Fineview                       90\n",
       "Allentown                      84\n",
       "Summer Hill                    79\n",
       "West Oakland                   78\n",
       "Spring Garden                  55\n",
       "Chartiers City                 37\n",
       "Ridgemont                      31\n",
       "Fairywood                      31\n",
       "Mt. Oliver                     13\n",
       "St. Clair                      12\n",
       "East Carnegie                   8\n",
       "Northview Heights               6\n",
       "Arlington Heights               5\n",
       "Esplen                          3\n",
       "South Shore                     2\n",
       "Glen Hazel                      2\n",
       "Hays                            1\n",
       "Name: neighborhood, Length: 90, dtype: int64"
      ]
     },
     "execution_count": 23,
     "metadata": {},
     "output_type": "execute_result"
    }
   ],
   "source": [
    "trees[\"neighborhood\"].value_counts()"
   ]
  },
  {
   "cell_type": "markdown",
   "metadata": {},
   "source": [
    "Let's plot that again."
   ]
  },
  {
   "cell_type": "code",
   "execution_count": 20,
   "metadata": {},
   "outputs": [
    {
     "data": {
      "text/plain": [
       "<matplotlib.axes._subplots.AxesSubplot at 0x7f2b6fbb9ba8>"
      ]
     },
     "execution_count": 20,
     "metadata": {},
     "output_type": "execute_result"
    },
    {
     "data": {
      "image/png": "[encoded data removed]",
      "text/plain": [
       "<Figure size 432x288 with 1 Axes>"
      ]
     },
     "metadata": {
      "needs_background": "light"
     },
     "output_type": "display_data"
    }
   ],
   "source": [
    "trees[\"neighborhood\"].value_counts().head().plot(kind=\"bar\")"
   ]
  },
  {
   "cell_type": "markdown",
   "metadata": {},
   "source": [
    "Okay, looks like Squirrel Hill South, Highland Park, Squirrel Hill North, South Side Flats, and Shadyside are our Top 5. That makes sense I guess.\n",
    "\n",
    "But wait...\n",
    "\n",
    "![sad-tree](https://q7i2y6d5.stackpathcdn.com/wp-content/uploads/2015/03/tree-jasmine-400x267.jpg)\n",
    "\n",
    "...not all trees are climbable, clearly. We need trees of a certain height."
   ]
  },
  {
   "cell_type": "markdown",
   "metadata": {},
   "source": [
    "Even tall trees may not be sturdy enough to climb. We need to measure height and width. Let's say trees at least 30 feet tall and at least 5 feet wide. We can't afford to screw around here; we need conservative estimates.\n",
    "\n",
    "I'll define a conjunction function here to check the height and the width."
   ]
  },
  {
   "cell_type": "code",
   "execution_count": 26,
   "metadata": {},
   "outputs": [
    {
     "data": {
      "text/html": [
       "<div>\n",
       "<style scoped>\n",
       "    .dataframe tbody tr th:only-of-type {\n",
       "        vertical-align: middle;\n",
       "    }\n",
       "\n",
       "    .dataframe tbody tr th {\n",
       "        vertical-align: top;\n",
       "    }\n",
       "\n",
       "    .dataframe thead th {\n",
       "        text-align: right;\n",
       "    }\n",
       "</style>\n",
       "<table border=\"1\" class=\"dataframe\">\n",
       "  <thead>\n",
       "    <tr style=\"text-align: right;\">\n",
       "      <th></th>\n",
       "      <th>id</th>\n",
       "      <th>address_number</th>\n",
       "      <th>street</th>\n",
       "      <th>common_name</th>\n",
       "      <th>scientific_name</th>\n",
       "      <th>height</th>\n",
       "      <th>width</th>\n",
       "      <th>growth_space_length</th>\n",
       "      <th>growth_space_width</th>\n",
       "      <th>growth_space_type</th>\n",
       "      <th>...</th>\n",
       "      <th>neighborhood</th>\n",
       "      <th>council_district</th>\n",
       "      <th>ward</th>\n",
       "      <th>tract</th>\n",
       "      <th>public_works_division</th>\n",
       "      <th>pli_division</th>\n",
       "      <th>police_zone</th>\n",
       "      <th>fire_zone</th>\n",
       "      <th>latitude</th>\n",
       "      <th>longitude</th>\n",
       "    </tr>\n",
       "  </thead>\n",
       "  <tbody>\n",
       "    <tr>\n",
       "      <th>3</th>\n",
       "      <td>994063598</td>\n",
       "      <td>608</td>\n",
       "      <td>SUISMON ST</td>\n",
       "      <td>Maple: Freeman</td>\n",
       "      <td>Acer x freemanii</td>\n",
       "      <td>25.0</td>\n",
       "      <td>10.0</td>\n",
       "      <td>3.0</td>\n",
       "      <td>3.0</td>\n",
       "      <td>Well or Pit</td>\n",
       "      <td>...</td>\n",
       "      <td>East Allegheny</td>\n",
       "      <td>1.0</td>\n",
       "      <td>23.0</td>\n",
       "      <td>4.200356e+10</td>\n",
       "      <td>1.0</td>\n",
       "      <td>23.0</td>\n",
       "      <td>1.0</td>\n",
       "      <td>1-6</td>\n",
       "      <td>40.455503</td>\n",
       "      <td>-79.999276</td>\n",
       "    </tr>\n",
       "    <tr>\n",
       "      <th>4</th>\n",
       "      <td>1591838573</td>\n",
       "      <td>1135</td>\n",
       "      <td>N NEGLEY AVE</td>\n",
       "      <td>Maple: Norway</td>\n",
       "      <td>Acer platanoides</td>\n",
       "      <td>52.0</td>\n",
       "      <td>13.0</td>\n",
       "      <td>99.0</td>\n",
       "      <td>99.0</td>\n",
       "      <td>Open or Unrestricted</td>\n",
       "      <td>...</td>\n",
       "      <td>Highland Park</td>\n",
       "      <td>7.0</td>\n",
       "      <td>11.0</td>\n",
       "      <td>4.200311e+10</td>\n",
       "      <td>2.0</td>\n",
       "      <td>11.0</td>\n",
       "      <td>5.0</td>\n",
       "      <td>3-9</td>\n",
       "      <td>40.476667</td>\n",
       "      <td>-79.924106</td>\n",
       "    </tr>\n",
       "    <tr>\n",
       "      <th>5</th>\n",
       "      <td>1333224197</td>\n",
       "      <td>5550</td>\n",
       "      <td>BRYANT ST</td>\n",
       "      <td>Oak: Pin</td>\n",
       "      <td>Quercus palustris</td>\n",
       "      <td>45.0</td>\n",
       "      <td>18.0</td>\n",
       "      <td>35.0</td>\n",
       "      <td>3.0</td>\n",
       "      <td>Tree Lawn or Parkway</td>\n",
       "      <td>...</td>\n",
       "      <td>Highland Park</td>\n",
       "      <td>7.0</td>\n",
       "      <td>11.0</td>\n",
       "      <td>4.200311e+10</td>\n",
       "      <td>2.0</td>\n",
       "      <td>11.0</td>\n",
       "      <td>5.0</td>\n",
       "      <td>3-9</td>\n",
       "      <td>40.477496</td>\n",
       "      <td>-79.924568</td>\n",
       "    </tr>\n",
       "    <tr>\n",
       "      <th>7</th>\n",
       "      <td>1233652274</td>\n",
       "      <td>1207</td>\n",
       "      <td>KING AVE</td>\n",
       "      <td>Maple: Norway</td>\n",
       "      <td>Acer platanoides</td>\n",
       "      <td>27.0</td>\n",
       "      <td>10.0</td>\n",
       "      <td>30.0</td>\n",
       "      <td>3.0</td>\n",
       "      <td>Tree Lawn or Parkway</td>\n",
       "      <td>...</td>\n",
       "      <td>Highland Park</td>\n",
       "      <td>7.0</td>\n",
       "      <td>11.0</td>\n",
       "      <td>4.200311e+10</td>\n",
       "      <td>2.0</td>\n",
       "      <td>11.0</td>\n",
       "      <td>5.0</td>\n",
       "      <td>3-9</td>\n",
       "      <td>40.478404</td>\n",
       "      <td>-79.926126</td>\n",
       "    </tr>\n",
       "    <tr>\n",
       "      <th>8</th>\n",
       "      <td>1477030894</td>\n",
       "      <td>1201</td>\n",
       "      <td>KING AVE</td>\n",
       "      <td>Maple: Norway</td>\n",
       "      <td>Acer platanoides</td>\n",
       "      <td>35.0</td>\n",
       "      <td>12.0</td>\n",
       "      <td>3.0</td>\n",
       "      <td>3.0</td>\n",
       "      <td>Well or Pit</td>\n",
       "      <td>...</td>\n",
       "      <td>Highland Park</td>\n",
       "      <td>7.0</td>\n",
       "      <td>11.0</td>\n",
       "      <td>4.200311e+10</td>\n",
       "      <td>2.0</td>\n",
       "      <td>11.0</td>\n",
       "      <td>5.0</td>\n",
       "      <td>3-9</td>\n",
       "      <td>40.478314</td>\n",
       "      <td>-79.926161</td>\n",
       "    </tr>\n",
       "  </tbody>\n",
       "</table>\n",
       "<p>5 rows × 58 columns</p>\n",
       "</div>"
      ],
      "text/plain": [
       "           id address_number        street     common_name    scientific_name  \\\n",
       "3   994063598            608    SUISMON ST  Maple: Freeman   Acer x freemanii   \n",
       "4  1591838573           1135  N NEGLEY AVE   Maple: Norway   Acer platanoides   \n",
       "5  1333224197           5550     BRYANT ST        Oak: Pin  Quercus palustris   \n",
       "7  1233652274           1207      KING AVE   Maple: Norway   Acer platanoides   \n",
       "8  1477030894           1201      KING AVE   Maple: Norway   Acer platanoides   \n",
       "\n",
       "   height  width  growth_space_length  growth_space_width  \\\n",
       "3    25.0   10.0                  3.0                 3.0   \n",
       "4    52.0   13.0                 99.0                99.0   \n",
       "5    45.0   18.0                 35.0                 3.0   \n",
       "7    27.0   10.0                 30.0                 3.0   \n",
       "8    35.0   12.0                  3.0                 3.0   \n",
       "\n",
       "      growth_space_type    ...        neighborhood  council_district  ward  \\\n",
       "3           Well or Pit    ...      East Allegheny               1.0  23.0   \n",
       "4  Open or Unrestricted    ...       Highland Park               7.0  11.0   \n",
       "5  Tree Lawn or Parkway    ...       Highland Park               7.0  11.0   \n",
       "7  Tree Lawn or Parkway    ...       Highland Park               7.0  11.0   \n",
       "8           Well or Pit    ...       Highland Park               7.0  11.0   \n",
       "\n",
       "          tract public_works_division  pli_division  police_zone  fire_zone  \\\n",
       "3  4.200356e+10                   1.0          23.0          1.0        1-6   \n",
       "4  4.200311e+10                   2.0          11.0          5.0        3-9   \n",
       "5  4.200311e+10                   2.0          11.0          5.0        3-9   \n",
       "7  4.200311e+10                   2.0          11.0          5.0        3-9   \n",
       "8  4.200311e+10                   2.0          11.0          5.0        3-9   \n",
       "\n",
       "    latitude  longitude  \n",
       "3  40.455503 -79.999276  \n",
       "4  40.476667 -79.924106  \n",
       "5  40.477496 -79.924568  \n",
       "7  40.478404 -79.926126  \n",
       "8  40.478314 -79.926161  \n",
       "\n",
       "[5 rows x 58 columns]"
      ]
     },
     "execution_count": 26,
     "metadata": {},
     "output_type": "execute_result"
    }
   ],
   "source": [
    "import functools\n",
    "def conjunction(*conditions):\n",
    "    return functools.reduce(np.logical_and, conditions)\n",
    "\n",
    "tall_enough_tree = trees[\"height\"] >= 25\n",
    "wide_enough_tree = trees[\"width\"] >= 5\n",
    "climbable_trees = trees[conjunction(tall_enough_tree, wide_enough_tree)]\n",
    "\n",
    "climbable_trees.head()"
   ]
  },
  {
   "cell_type": "markdown",
   "metadata": {},
   "source": [
    "That looks right. Let's see how many trees fit the criteria now."
   ]
  },
  {
   "cell_type": "code",
   "execution_count": 28,
   "metadata": {},
   "outputs": [
    {
     "data": {
      "text/plain": [
       "Squirrel Hill South          1220\n",
       "Squirrel Hill North          1195\n",
       "Shadyside                     751\n",
       "Highland Park                 676\n",
       "Point Breeze                  649\n",
       "Bloomfield                    586\n",
       "South Side Flats              540\n",
       "Stanton Heights               507\n",
       "Brighton Heights              492\n",
       "Brookline                     441\n",
       "East Liberty                  425\n",
       "Mount Washington              338\n",
       "Lincoln-Lemington-Belmar      313\n",
       "Carrick                       306\n",
       "North Oakland                 304\n",
       "Central Northside             303\n",
       "Manchester                    301\n",
       "Greenfield                    296\n",
       "East Hills                    291\n",
       "Central Business District     289\n",
       "Beechview                     274\n",
       "Hazelwood                     256\n",
       "Point Breeze North            225\n",
       "Knoxville                     224\n",
       "Banksville                    220\n",
       "Marshall-Shadeland            213\n",
       "Sheraden                      206\n",
       "Lower Lawrenceville           194\n",
       "Central Lawrenceville         187\n",
       "Crafton Heights               185\n",
       "                             ... \n",
       "Fineview                       61\n",
       "West End                       60\n",
       "Windgap                        54\n",
       "Oakwood                        52\n",
       "Beltzhoover                    49\n",
       "Summer Hill                    48\n",
       "Terrace Village                47\n",
       "California-Kirkbride           46\n",
       "Bluff                          46\n",
       "Bon Air                        42\n",
       "Spring Hill-City View          39\n",
       "Bedford Dwellings              37\n",
       "Allentown                      34\n",
       "Duquesne Heights               32\n",
       "Arlington                      31\n",
       "Homewood West                  31\n",
       "Chartiers City                 29\n",
       "Spring Garden                  20\n",
       "Fairywood                      18\n",
       "Allegheny Center               18\n",
       "West Oakland                   14\n",
       "Troy Hill                      13\n",
       "Ridgemont                       8\n",
       "St. Clair                       7\n",
       "Mt. Oliver                      5\n",
       "East Carnegie                   3\n",
       "Northview Heights               3\n",
       "Arlington Heights               3\n",
       "Esplen                          1\n",
       "South Shore                     1\n",
       "Name: neighborhood, Length: 88, dtype: int64"
      ]
     },
     "execution_count": 28,
     "metadata": {},
     "output_type": "execute_result"
    }
   ],
   "source": [
    "climbable_trees[\"neighborhood\"].value_counts()"
   ]
  },
  {
   "cell_type": "code",
   "execution_count": 29,
   "metadata": {},
   "outputs": [
    {
     "data": {
      "text/plain": [
       "<matplotlib.axes._subplots.AxesSubplot at 0x7f2b715f8630>"
      ]
     },
     "execution_count": 29,
     "metadata": {},
     "output_type": "execute_result"
    },
    {
     "data": {
      "image/png": "[encoded data removed]",
      "text/plain": [
       "<Figure size 432x288 with 1 Axes>"
      ]
     },
     "metadata": {
      "needs_background": "light"
     },
     "output_type": "display_data"
    }
   ],
   "source": [
    "climbable_trees[\"neighborhood\"].value_counts().head().plot(kind=\"bar\")"
   ]
  },
  {
   "cell_type": "markdown",
   "metadata": {},
   "source": [
    "Okay, Squirrel Hill definitely has the largest number of climbable trees in both North and South neighborhoods. Shadyside and Highland Park are still Top 5, but have switched relative positions. Point Breeze is now in the leaderboard as well.\n",
    "\n",
    "Alright, so we have our trees. Only one more natural feature to go, and arguably the most important: stairs."
   ]
  },
  {
   "cell_type": "code",
   "execution_count": 31,
   "metadata": {},
   "outputs": [
    {
     "data": {
      "text/html": [
       "<div>\n",
       "<style scoped>\n",
       "    .dataframe tbody tr th:only-of-type {\n",
       "        vertical-align: middle;\n",
       "    }\n",
       "\n",
       "    .dataframe tbody tr th {\n",
       "        vertical-align: top;\n",
       "    }\n",
       "\n",
       "    .dataframe thead th {\n",
       "        text-align: right;\n",
       "    }\n",
       "</style>\n",
       "<table border=\"1\" class=\"dataframe\">\n",
       "  <thead>\n",
       "    <tr style=\"text-align: right;\">\n",
       "      <th></th>\n",
       "      <th>id</th>\n",
       "      <th>name</th>\n",
       "      <th>maintenance_responsibility</th>\n",
       "      <th>installed</th>\n",
       "      <th>material</th>\n",
       "      <th>length</th>\n",
       "      <th>number_of_steps</th>\n",
       "      <th>schools_count</th>\n",
       "      <th>school_score</th>\n",
       "      <th>total_population</th>\n",
       "      <th>...</th>\n",
       "      <th>neighborhood</th>\n",
       "      <th>council_district</th>\n",
       "      <th>ward</th>\n",
       "      <th>tract</th>\n",
       "      <th>public_works_division</th>\n",
       "      <th>pli_division</th>\n",
       "      <th>police_zone</th>\n",
       "      <th>fire_zone</th>\n",
       "      <th>latitude</th>\n",
       "      <th>longitude</th>\n",
       "    </tr>\n",
       "  </thead>\n",
       "  <tbody>\n",
       "    <tr>\n",
       "      <th>0</th>\n",
       "      <td>326501686</td>\n",
       "      <td>10 Wakefield St</td>\n",
       "      <td>3rd Division</td>\n",
       "      <td>NaN</td>\n",
       "      <td>Concrete</td>\n",
       "      <td>53.0</td>\n",
       "      <td>8.0</td>\n",
       "      <td>0.0</td>\n",
       "      <td>100.0</td>\n",
       "      <td>367.0</td>\n",
       "      <td>...</td>\n",
       "      <td>South Oakland</td>\n",
       "      <td>3.0</td>\n",
       "      <td>4</td>\n",
       "      <td>42003040900</td>\n",
       "      <td>3</td>\n",
       "      <td>4</td>\n",
       "      <td>4</td>\n",
       "      <td>2-11</td>\n",
       "      <td>40.430926</td>\n",
       "      <td>-79.957090</td>\n",
       "    </tr>\n",
       "    <tr>\n",
       "      <th>1</th>\n",
       "      <td>527853474</td>\n",
       "      <td>1005 St Martin St</td>\n",
       "      <td>4th Division</td>\n",
       "      <td>NaN</td>\n",
       "      <td>Concrete</td>\n",
       "      <td>33.0</td>\n",
       "      <td>24.0</td>\n",
       "      <td>NaN</td>\n",
       "      <td>NaN</td>\n",
       "      <td>NaN</td>\n",
       "      <td>...</td>\n",
       "      <td>South Side Slopes</td>\n",
       "      <td>3.0</td>\n",
       "      <td>17</td>\n",
       "      <td>42003170600</td>\n",
       "      <td>3</td>\n",
       "      <td>17</td>\n",
       "      <td>3</td>\n",
       "      <td>4-6</td>\n",
       "      <td>40.422410</td>\n",
       "      <td>-79.988215</td>\n",
       "    </tr>\n",
       "    <tr>\n",
       "      <th>2</th>\n",
       "      <td>1074700399</td>\n",
       "      <td>1017 St Martin St</td>\n",
       "      <td>4th Division</td>\n",
       "      <td>NaN</td>\n",
       "      <td>Concrete</td>\n",
       "      <td>52.0</td>\n",
       "      <td>4.0</td>\n",
       "      <td>NaN</td>\n",
       "      <td>NaN</td>\n",
       "      <td>NaN</td>\n",
       "      <td>...</td>\n",
       "      <td>South Side Slopes</td>\n",
       "      <td>3.0</td>\n",
       "      <td>17</td>\n",
       "      <td>42003170600</td>\n",
       "      <td>3</td>\n",
       "      <td>17</td>\n",
       "      <td>3</td>\n",
       "      <td>4-6</td>\n",
       "      <td>40.422471</td>\n",
       "      <td>-79.987604</td>\n",
       "    </tr>\n",
       "    <tr>\n",
       "      <th>3</th>\n",
       "      <td>50987987</td>\n",
       "      <td>30th St from Bigelow Blvd to Leander St</td>\n",
       "      <td>3rd Division</td>\n",
       "      <td>1948-01-01</td>\n",
       "      <td>Concrete</td>\n",
       "      <td>106.0</td>\n",
       "      <td>106.0</td>\n",
       "      <td>0.0</td>\n",
       "      <td>100.0</td>\n",
       "      <td>235.0</td>\n",
       "      <td>...</td>\n",
       "      <td>Bedford Dwellings</td>\n",
       "      <td>7.0</td>\n",
       "      <td>6</td>\n",
       "      <td>42003060500</td>\n",
       "      <td>3</td>\n",
       "      <td>6</td>\n",
       "      <td>2</td>\n",
       "      <td>2-24</td>\n",
       "      <td>40.454787</td>\n",
       "      <td>-79.968453</td>\n",
       "    </tr>\n",
       "    <tr>\n",
       "      <th>4</th>\n",
       "      <td>173445306</td>\n",
       "      <td>30th St from Paulowna to Bigelow Blvd</td>\n",
       "      <td>6th Division</td>\n",
       "      <td>1948-01-01</td>\n",
       "      <td>Concrete</td>\n",
       "      <td>204.0</td>\n",
       "      <td>85.0</td>\n",
       "      <td>1.0</td>\n",
       "      <td>4.0</td>\n",
       "      <td>422.0</td>\n",
       "      <td>...</td>\n",
       "      <td>Polish Hill</td>\n",
       "      <td>7.0</td>\n",
       "      <td>6</td>\n",
       "      <td>42003060500</td>\n",
       "      <td>6</td>\n",
       "      <td>6</td>\n",
       "      <td>2</td>\n",
       "      <td>2-6</td>\n",
       "      <td>40.455470</td>\n",
       "      <td>-79.968725</td>\n",
       "    </tr>\n",
       "  </tbody>\n",
       "</table>\n",
       "<p>5 rows × 25 columns</p>\n",
       "</div>"
      ],
      "text/plain": [
       "           id                                     name  \\\n",
       "0   326501686                          10 Wakefield St   \n",
       "1   527853474                        1005 St Martin St   \n",
       "2  1074700399                        1017 St Martin St   \n",
       "3    50987987  30th St from Bigelow Blvd to Leander St   \n",
       "4   173445306    30th St from Paulowna to Bigelow Blvd   \n",
       "\n",
       "  maintenance_responsibility   installed  material  length  number_of_steps  \\\n",
       "0               3rd Division         NaN  Concrete    53.0              8.0   \n",
       "1               4th Division         NaN  Concrete    33.0             24.0   \n",
       "2               4th Division         NaN  Concrete    52.0              4.0   \n",
       "3               3rd Division  1948-01-01  Concrete   106.0            106.0   \n",
       "4               6th Division  1948-01-01  Concrete   204.0             85.0   \n",
       "\n",
       "   schools_count  school_score  total_population    ...      \\\n",
       "0            0.0         100.0             367.0    ...       \n",
       "1            NaN           NaN               NaN    ...       \n",
       "2            NaN           NaN               NaN    ...       \n",
       "3            0.0         100.0             235.0    ...       \n",
       "4            1.0           4.0             422.0    ...       \n",
       "\n",
       "        neighborhood  council_district  ward        tract  \\\n",
       "0      South Oakland               3.0     4  42003040900   \n",
       "1  South Side Slopes               3.0    17  42003170600   \n",
       "2  South Side Slopes               3.0    17  42003170600   \n",
       "3  Bedford Dwellings               7.0     6  42003060500   \n",
       "4        Polish Hill               7.0     6  42003060500   \n",
       "\n",
       "  public_works_division pli_division  police_zone  fire_zone   latitude  \\\n",
       "0                     3            4            4       2-11  40.430926   \n",
       "1                     3           17            3        4-6  40.422410   \n",
       "2                     3           17            3        4-6  40.422471   \n",
       "3                     3            6            2       2-24  40.454787   \n",
       "4                     6            6            2        2-6  40.455470   \n",
       "\n",
       "   longitude  \n",
       "0 -79.957090  \n",
       "1 -79.988215  \n",
       "2 -79.987604  \n",
       "3 -79.968453  \n",
       "4 -79.968725  \n",
       "\n",
       "[5 rows x 25 columns]"
      ]
     },
     "execution_count": 31,
     "metadata": {},
     "output_type": "execute_result"
    }
   ],
   "source": [
    "steps = pd.read_csv(\"https://data.wprdc.org/datastore/dump/43f40ca4-2211-4a12-8b4f-4d052662bb64\")\n",
    "steps.head()"
   ]
  },
  {
   "cell_type": "markdown",
   "metadata": {},
   "source": [
    "So how many outdoor steps are there in Pittsburgh?"
   ]
  },
  {
   "cell_type": "code",
   "execution_count": 32,
   "metadata": {},
   "outputs": [
    {
     "data": {
      "text/plain": [
       "864"
      ]
     },
     "execution_count": 32,
     "metadata": {},
     "output_type": "execute_result"
    }
   ],
   "source": [
    "len(steps)"
   ]
  },
  {
   "cell_type": "markdown",
   "metadata": {},
   "source": [
    "Just out of curiosity, how many actual steps are there, where each stairway has multiple steps?"
   ]
  },
  {
   "cell_type": "code",
   "execution_count": 33,
   "metadata": {},
   "outputs": [
    {
     "data": {
      "text/plain": [
       "38580.0"
      ]
     },
     "execution_count": 33,
     "metadata": {},
     "output_type": "execute_result"
    }
   ],
   "source": [
    "steps[\"number_of_steps\"].sum()"
   ]
  },
  {
   "cell_type": "markdown",
   "metadata": {},
   "source": [
    "Dang, that's a lot of steps.\n",
    "\n",
    "Okay, let's break those stairways down by neighborhood."
   ]
  },
  {
   "cell_type": "code",
   "execution_count": 34,
   "metadata": {},
   "outputs": [
    {
     "data": {
      "text/plain": [
       "South Side Slopes        95\n",
       "Mount Washington         46\n",
       "Beechview                40\n",
       "Brookline                35\n",
       "Perry South              33\n",
       "Greenfield               33\n",
       "Carrick                  33\n",
       "Marshall-Shadeland       31\n",
       "Sheraden                 26\n",
       "Elliott                  24\n",
       "Duquesne Heights         22\n",
       "Hazelwood                21\n",
       "Beltzhoover              21\n",
       "Perry North              20\n",
       "Polish Hill              19\n",
       "Spring Hill-City View    19\n",
       "Overbrook                17\n",
       "Fineview                 17\n",
       "Arlington                15\n",
       "Garfield                 14\n",
       "Stanton Heights          13\n",
       "Upper Hill               13\n",
       "Troy Hill                12\n",
       "Westwood                 12\n",
       "Allentown                12\n",
       "Brighton Heights         11\n",
       "Spring Garden            11\n",
       "Middle Hill              11\n",
       "Squirrel Hill South      11\n",
       "Upper Lawrenceville      11\n",
       "                         ..\n",
       "Mt. Oliver                6\n",
       "Highland Park             6\n",
       "Central Oakland           5\n",
       "West End                  5\n",
       "Lincoln Place             5\n",
       "Oakwood                   5\n",
       "East Allegheny            4\n",
       "Squirrel Hill North       4\n",
       "North Oakland             4\n",
       "Bloomfield                4\n",
       "Point Breeze              4\n",
       "Bedford Dwellings         3\n",
       "Central Northside         3\n",
       "Ridgemont                 3\n",
       "Terrace Village           3\n",
       "Crawford-Roberts          3\n",
       "Esplen                    3\n",
       "Bon Air                   2\n",
       "East Carnegie             2\n",
       "St. Clair                 2\n",
       "Glen Hazel                2\n",
       "Shadyside                 2\n",
       "South Side Flats          1\n",
       "Windgap                   1\n",
       "Mount Oliver Borough      1\n",
       "Central Lawrenceville     1\n",
       "Strip District            1\n",
       "Larimer                   1\n",
       "Bluff                     1\n",
       "Chartiers City            1\n",
       "Name: neighborhood, Length: 70, dtype: int64"
      ]
     },
     "execution_count": 34,
     "metadata": {},
     "output_type": "execute_result"
    }
   ],
   "source": [
    "steps[\"neighborhood\"].value_counts()"
   ]
  },
  {
   "cell_type": "markdown",
   "metadata": {},
   "source": [
    "Let's plot those so we can see it visually."
   ]
  },
  {
   "cell_type": "code",
   "execution_count": 35,
   "metadata": {},
   "outputs": [
    {
     "data": {
      "text/plain": [
       "<matplotlib.axes._subplots.AxesSubplot at 0x7f2b715526d8>"
      ]
     },
     "execution_count": 35,
     "metadata": {},
     "output_type": "execute_result"
    },
    {
     "data": {
      "image/png": "[encoded data removed]",
      "text/plain": [
       "<Figure size 432x288 with 1 Axes>"
      ]
     },
     "metadata": {
      "needs_background": "light"
     },
     "output_type": "display_data"
    }
   ],
   "source": [
    "steps[\"neighborhood\"].value_counts().head().plot(kind=\"bar\")"
   ]
  },
  {
   "cell_type": "markdown",
   "metadata": {},
   "source": [
    "South Side Slopes again in the lead again, with Mount Washington, Beechview, Brookline, and Perry South the runners-up."
   ]
  },
  {
   "cell_type": "markdown",
   "metadata": {},
   "source": [
    "We deduced that we only really want to count stairs that have more than ten steps, because a zombie would trip on the first stair and reach about eight or nine steps. We want ten steps to put good distance in between us and the zombies.\n",
    "\n",
    "Let's define that condition."
   ]
  },
  {
   "cell_type": "code",
   "execution_count": 36,
   "metadata": {},
   "outputs": [
    {
     "data": {
      "text/html": [
       "<div>\n",
       "<style scoped>\n",
       "    .dataframe tbody tr th:only-of-type {\n",
       "        vertical-align: middle;\n",
       "    }\n",
       "\n",
       "    .dataframe tbody tr th {\n",
       "        vertical-align: top;\n",
       "    }\n",
       "\n",
       "    .dataframe thead th {\n",
       "        text-align: right;\n",
       "    }\n",
       "</style>\n",
       "<table border=\"1\" class=\"dataframe\">\n",
       "  <thead>\n",
       "    <tr style=\"text-align: right;\">\n",
       "      <th></th>\n",
       "      <th>id</th>\n",
       "      <th>name</th>\n",
       "      <th>maintenance_responsibility</th>\n",
       "      <th>installed</th>\n",
       "      <th>material</th>\n",
       "      <th>length</th>\n",
       "      <th>number_of_steps</th>\n",
       "      <th>schools_count</th>\n",
       "      <th>school_score</th>\n",
       "      <th>total_population</th>\n",
       "      <th>...</th>\n",
       "      <th>neighborhood</th>\n",
       "      <th>council_district</th>\n",
       "      <th>ward</th>\n",
       "      <th>tract</th>\n",
       "      <th>public_works_division</th>\n",
       "      <th>pli_division</th>\n",
       "      <th>police_zone</th>\n",
       "      <th>fire_zone</th>\n",
       "      <th>latitude</th>\n",
       "      <th>longitude</th>\n",
       "    </tr>\n",
       "  </thead>\n",
       "  <tbody>\n",
       "    <tr>\n",
       "      <th>1</th>\n",
       "      <td>527853474</td>\n",
       "      <td>1005 St Martin St</td>\n",
       "      <td>4th Division</td>\n",
       "      <td>NaN</td>\n",
       "      <td>Concrete</td>\n",
       "      <td>33.0</td>\n",
       "      <td>24.0</td>\n",
       "      <td>NaN</td>\n",
       "      <td>NaN</td>\n",
       "      <td>NaN</td>\n",
       "      <td>...</td>\n",
       "      <td>South Side Slopes</td>\n",
       "      <td>3.0</td>\n",
       "      <td>17</td>\n",
       "      <td>42003170600</td>\n",
       "      <td>3</td>\n",
       "      <td>17</td>\n",
       "      <td>3</td>\n",
       "      <td>4-6</td>\n",
       "      <td>40.422410</td>\n",
       "      <td>-79.988215</td>\n",
       "    </tr>\n",
       "    <tr>\n",
       "      <th>3</th>\n",
       "      <td>50987987</td>\n",
       "      <td>30th St from Bigelow Blvd to Leander St</td>\n",
       "      <td>3rd Division</td>\n",
       "      <td>1948-01-01</td>\n",
       "      <td>Concrete</td>\n",
       "      <td>106.0</td>\n",
       "      <td>106.0</td>\n",
       "      <td>0.0</td>\n",
       "      <td>100.0</td>\n",
       "      <td>235.0</td>\n",
       "      <td>...</td>\n",
       "      <td>Bedford Dwellings</td>\n",
       "      <td>7.0</td>\n",
       "      <td>6</td>\n",
       "      <td>42003060500</td>\n",
       "      <td>3</td>\n",
       "      <td>6</td>\n",
       "      <td>2</td>\n",
       "      <td>2-24</td>\n",
       "      <td>40.454787</td>\n",
       "      <td>-79.968453</td>\n",
       "    </tr>\n",
       "    <tr>\n",
       "      <th>4</th>\n",
       "      <td>173445306</td>\n",
       "      <td>30th St from Paulowna to Bigelow Blvd</td>\n",
       "      <td>6th Division</td>\n",
       "      <td>1948-01-01</td>\n",
       "      <td>Concrete</td>\n",
       "      <td>204.0</td>\n",
       "      <td>85.0</td>\n",
       "      <td>1.0</td>\n",
       "      <td>4.0</td>\n",
       "      <td>422.0</td>\n",
       "      <td>...</td>\n",
       "      <td>Polish Hill</td>\n",
       "      <td>7.0</td>\n",
       "      <td>6</td>\n",
       "      <td>42003060500</td>\n",
       "      <td>6</td>\n",
       "      <td>6</td>\n",
       "      <td>2</td>\n",
       "      <td>2-6</td>\n",
       "      <td>40.455470</td>\n",
       "      <td>-79.968725</td>\n",
       "    </tr>\n",
       "    <tr>\n",
       "      <th>5</th>\n",
       "      <td>1770071723</td>\n",
       "      <td>53rd St from Holmes St to Lotus Way West</td>\n",
       "      <td>2nd Division</td>\n",
       "      <td>1949-01-01</td>\n",
       "      <td>Concrete</td>\n",
       "      <td>105.0</td>\n",
       "      <td>44.0</td>\n",
       "      <td>1.0</td>\n",
       "      <td>8.0</td>\n",
       "      <td>1751.0</td>\n",
       "      <td>...</td>\n",
       "      <td>Upper Lawrenceville</td>\n",
       "      <td>7.0</td>\n",
       "      <td>10</td>\n",
       "      <td>42003101100</td>\n",
       "      <td>2</td>\n",
       "      <td>10</td>\n",
       "      <td>2</td>\n",
       "      <td>3-5</td>\n",
       "      <td>40.480342</td>\n",
       "      <td>-79.950134</td>\n",
       "    </tr>\n",
       "    <tr>\n",
       "      <th>6</th>\n",
       "      <td>1298252202</td>\n",
       "      <td>53rd St from Lotus Way to Duncan St</td>\n",
       "      <td>2nd Division</td>\n",
       "      <td>1949-01-01</td>\n",
       "      <td>Concrete</td>\n",
       "      <td>106.0</td>\n",
       "      <td>17.0</td>\n",
       "      <td>NaN</td>\n",
       "      <td>NaN</td>\n",
       "      <td>NaN</td>\n",
       "      <td>...</td>\n",
       "      <td>Upper Lawrenceville</td>\n",
       "      <td>7.0</td>\n",
       "      <td>10</td>\n",
       "      <td>42003101100</td>\n",
       "      <td>2</td>\n",
       "      <td>10</td>\n",
       "      <td>2</td>\n",
       "      <td>3-5</td>\n",
       "      <td>40.480104</td>\n",
       "      <td>-79.949804</td>\n",
       "    </tr>\n",
       "  </tbody>\n",
       "</table>\n",
       "<p>5 rows × 25 columns</p>\n",
       "</div>"
      ],
      "text/plain": [
       "           id                                      name  \\\n",
       "1   527853474                         1005 St Martin St   \n",
       "3    50987987   30th St from Bigelow Blvd to Leander St   \n",
       "4   173445306     30th St from Paulowna to Bigelow Blvd   \n",
       "5  1770071723  53rd St from Holmes St to Lotus Way West   \n",
       "6  1298252202       53rd St from Lotus Way to Duncan St   \n",
       "\n",
       "  maintenance_responsibility   installed  material  length  number_of_steps  \\\n",
       "1               4th Division         NaN  Concrete    33.0             24.0   \n",
       "3               3rd Division  1948-01-01  Concrete   106.0            106.0   \n",
       "4               6th Division  1948-01-01  Concrete   204.0             85.0   \n",
       "5               2nd Division  1949-01-01  Concrete   105.0             44.0   \n",
       "6               2nd Division  1949-01-01  Concrete   106.0             17.0   \n",
       "\n",
       "   schools_count  school_score  total_population    ...      \\\n",
       "1            NaN           NaN               NaN    ...       \n",
       "3            0.0         100.0             235.0    ...       \n",
       "4            1.0           4.0             422.0    ...       \n",
       "5            1.0           8.0            1751.0    ...       \n",
       "6            NaN           NaN               NaN    ...       \n",
       "\n",
       "          neighborhood  council_district  ward        tract  \\\n",
       "1    South Side Slopes               3.0    17  42003170600   \n",
       "3    Bedford Dwellings               7.0     6  42003060500   \n",
       "4          Polish Hill               7.0     6  42003060500   \n",
       "5  Upper Lawrenceville               7.0    10  42003101100   \n",
       "6  Upper Lawrenceville               7.0    10  42003101100   \n",
       "\n",
       "  public_works_division pli_division  police_zone  fire_zone   latitude  \\\n",
       "1                     3           17            3        4-6  40.422410   \n",
       "3                     3            6            2       2-24  40.454787   \n",
       "4                     6            6            2        2-6  40.455470   \n",
       "5                     2           10            2        3-5  40.480342   \n",
       "6                     2           10            2        3-5  40.480104   \n",
       "\n",
       "   longitude  \n",
       "1 -79.988215  \n",
       "3 -79.968453  \n",
       "4 -79.968725  \n",
       "5 -79.950134  \n",
       "6 -79.949804  \n",
       "\n",
       "[5 rows x 25 columns]"
      ]
     },
     "execution_count": 36,
     "metadata": {},
     "output_type": "execute_result"
    }
   ],
   "source": [
    "enough_steps = steps[\"number_of_steps\"] >= 10\n",
    "viable_steps = steps[enough_steps]\n",
    "\n",
    "viable_steps.head()"
   ]
  },
  {
   "cell_type": "markdown",
   "metadata": {},
   "source": [
    "Looks like we cancelled a lot of steps that wouldn't be of any use to us in the Zombie Apocalypse. Let's see what that looks like now."
   ]
  },
  {
   "cell_type": "code",
   "execution_count": 37,
   "metadata": {},
   "outputs": [
    {
     "data": {
      "text/plain": [
       "South Side Slopes        60\n",
       "Beechview                36\n",
       "Mount Washington         35\n",
       "Marshall-Shadeland       27\n",
       "Perry South              27\n",
       "Brookline                25\n",
       "Greenfield               24\n",
       "Hazelwood                19\n",
       "Carrick                  18\n",
       "Duquesne Heights         16\n",
       "Perry North              15\n",
       "Polish Hill              15\n",
       "Sheraden                 15\n",
       "Fineview                 14\n",
       "Spring Hill-City View    12\n",
       "Beltzhoover              12\n",
       "Overbrook                12\n",
       "Middle Hill              11\n",
       "Arlington                11\n",
       "Troy Hill                11\n",
       "Upper Hill               11\n",
       "Brighton Heights         10\n",
       "Elliott                  10\n",
       "Garfield                 10\n",
       "Westwood                 10\n",
       "Stanton Heights          10\n",
       "Spring Garden             9\n",
       "California-Kirkbride      8\n",
       "Allentown                 8\n",
       "Upper Lawrenceville       8\n",
       "                         ..\n",
       "Lincoln Place             5\n",
       "Morningside               5\n",
       "Bloomfield                4\n",
       "Point Breeze              4\n",
       "Mt. Oliver                4\n",
       "Squirrel Hill South       4\n",
       "Oakwood                   4\n",
       "East Allegheny            4\n",
       "Highland Park             3\n",
       "Crawford-Roberts          3\n",
       "Squirrel Hill North       3\n",
       "North Oakland             3\n",
       "East Hills                3\n",
       "Bedford Dwellings         3\n",
       "West End                  3\n",
       "Central Northside         3\n",
       "Shadyside                 2\n",
       "St. Clair                 2\n",
       "Glen Hazel                2\n",
       "East Carnegie             2\n",
       "Terrace Village           2\n",
       "Ridgemont                 2\n",
       "Larimer                   1\n",
       "Chartiers City            1\n",
       "South Side Flats          1\n",
       "Windgap                   1\n",
       "Esplen                    1\n",
       "Bon Air                   1\n",
       "Bluff                     1\n",
       "Strip District            1\n",
       "Name: neighborhood, Length: 68, dtype: int64"
      ]
     },
     "execution_count": 37,
     "metadata": {},
     "output_type": "execute_result"
    }
   ],
   "source": [
    "viable_steps[\"neighborhood\"].value_counts()"
   ]
  },
  {
   "cell_type": "code",
   "execution_count": 38,
   "metadata": {},
   "outputs": [
    {
     "data": {
      "text/plain": [
       "<matplotlib.axes._subplots.AxesSubplot at 0x7f2b715127b8>"
      ]
     },
     "execution_count": 38,
     "metadata": {},
     "output_type": "execute_result"
    },
    {
     "data": {
      "image/png": "[encoded data removed]",
      "text/plain": [
       "<Figure size 432x288 with 1 Axes>"
      ]
     },
     "metadata": {
      "needs_background": "light"
     },
     "output_type": "display_data"
    }
   ],
   "source": [
    "viable_steps[\"neighborhood\"].value_counts().head().plot(kind=\"bar\")"
   ]
  },
  {
   "cell_type": "markdown",
   "metadata": {},
   "source": [
    "Similar to the retaining walls, we see a lot of the same neighborhoods at the top of the list, especially South Side Slopes. Beechview jumped over Mount Washington to edge into second place, and Marshall-Shadeland rose to 4th place, with Perry South taking 5th."
   ]
  },
  {
   "cell_type": "markdown",
   "metadata": {},
   "source": [
    "Alright, let's determine once and for all which neighborhood is the best!\n",
    "\n",
    "Time to use that equation we talked about earlier:\n",
    "\n",
    "`i = 5s + 5r + .2t`\n",
    "\n",
    "Let's look at the value counts from each database again."
   ]
  },
  {
   "cell_type": "code",
   "execution_count": 45,
   "metadata": {},
   "outputs": [
    {
     "data": {
      "text/plain": [
       "South Side Slopes        12\n",
       "East Allegheny            6\n",
       "Allentown                 6\n",
       "Perry South               5\n",
       "Mount Washington          4\n",
       "Banksville                4\n",
       "West End                  4\n",
       "Morningside               4\n",
       "Squirrel Hill South       3\n",
       "Beechview                 3\n",
       "Upper Hill                3\n",
       "Spring Hill-City View     3\n",
       "Beltzhoover               3\n",
       "Stanton Heights           3\n",
       "Fineview                  3\n",
       "Perry North               3\n",
       "Greenfield                3\n",
       "Marshall-Shadeland        2\n",
       "Troy Hill                 2\n",
       "Brookline                 2\n",
       "Polish Hill               2\n",
       "Elliott                   2\n",
       "Spring Garden             2\n",
       "South Shore               1\n",
       "Brighton Heights          1\n",
       "Crawford-Roberts          1\n",
       "Hazelwood                 1\n",
       "Highland Park             1\n",
       "Crafton Heights           1\n",
       "East Carnegie             1\n",
       "Sheraden                  1\n",
       "Hays                      1\n",
       "Name: neighborhood, dtype: int64"
      ]
     },
     "execution_count": 45,
     "metadata": {},
     "output_type": "execute_result"
    }
   ],
   "source": [
    "retaining_walls_tall[\"neighborhood\"].value_counts()"
   ]
  },
  {
   "cell_type": "code",
   "execution_count": 46,
   "metadata": {},
   "outputs": [
    {
     "data": {
      "text/plain": [
       "Squirrel Hill South          1220\n",
       "Squirrel Hill North          1195\n",
       "Shadyside                     751\n",
       "Highland Park                 676\n",
       "Point Breeze                  649\n",
       "Bloomfield                    586\n",
       "South Side Flats              540\n",
       "Stanton Heights               507\n",
       "Brighton Heights              492\n",
       "Brookline                     441\n",
       "East Liberty                  425\n",
       "Mount Washington              338\n",
       "Lincoln-Lemington-Belmar      313\n",
       "Carrick                       306\n",
       "North Oakland                 304\n",
       "Central Northside             303\n",
       "Manchester                    301\n",
       "Greenfield                    296\n",
       "East Hills                    291\n",
       "Central Business District     289\n",
       "Beechview                     274\n",
       "Hazelwood                     256\n",
       "Point Breeze North            225\n",
       "Knoxville                     224\n",
       "Banksville                    220\n",
       "Marshall-Shadeland            213\n",
       "Sheraden                      206\n",
       "Lower Lawrenceville           194\n",
       "Central Lawrenceville         187\n",
       "Crafton Heights               185\n",
       "                             ... \n",
       "Fineview                       61\n",
       "West End                       60\n",
       "Windgap                        54\n",
       "Oakwood                        52\n",
       "Beltzhoover                    49\n",
       "Summer Hill                    48\n",
       "Terrace Village                47\n",
       "California-Kirkbride           46\n",
       "Bluff                          46\n",
       "Bon Air                        42\n",
       "Spring Hill-City View          39\n",
       "Bedford Dwellings              37\n",
       "Allentown                      34\n",
       "Duquesne Heights               32\n",
       "Arlington                      31\n",
       "Homewood West                  31\n",
       "Chartiers City                 29\n",
       "Spring Garden                  20\n",
       "Fairywood                      18\n",
       "Allegheny Center               18\n",
       "West Oakland                   14\n",
       "Troy Hill                      13\n",
       "Ridgemont                       8\n",
       "St. Clair                       7\n",
       "Mt. Oliver                      5\n",
       "East Carnegie                   3\n",
       "Northview Heights               3\n",
       "Arlington Heights               3\n",
       "Esplen                          1\n",
       "South Shore                     1\n",
       "Name: neighborhood, Length: 88, dtype: int64"
      ]
     },
     "execution_count": 46,
     "metadata": {},
     "output_type": "execute_result"
    }
   ],
   "source": [
    "climbable_trees[\"neighborhood\"].value_counts()"
   ]
  },
  {
   "cell_type": "code",
   "execution_count": 49,
   "metadata": {},
   "outputs": [
    {
     "data": {
      "text/plain": [
       "South Side Slopes        60\n",
       "Beechview                36\n",
       "Mount Washington         35\n",
       "Marshall-Shadeland       27\n",
       "Perry South              27\n",
       "Brookline                25\n",
       "Greenfield               24\n",
       "Hazelwood                19\n",
       "Carrick                  18\n",
       "Duquesne Heights         16\n",
       "Perry North              15\n",
       "Polish Hill              15\n",
       "Sheraden                 15\n",
       "Fineview                 14\n",
       "Spring Hill-City View    12\n",
       "Beltzhoover              12\n",
       "Overbrook                12\n",
       "Middle Hill              11\n",
       "Arlington                11\n",
       "Troy Hill                11\n",
       "Upper Hill               11\n",
       "Brighton Heights         10\n",
       "Elliott                  10\n",
       "Garfield                 10\n",
       "Westwood                 10\n",
       "Stanton Heights          10\n",
       "Spring Garden             9\n",
       "California-Kirkbride      8\n",
       "Allentown                 8\n",
       "Upper Lawrenceville       8\n",
       "                         ..\n",
       "Lincoln Place             5\n",
       "Morningside               5\n",
       "Bloomfield                4\n",
       "Point Breeze              4\n",
       "Mt. Oliver                4\n",
       "Squirrel Hill South       4\n",
       "Oakwood                   4\n",
       "East Allegheny            4\n",
       "Highland Park             3\n",
       "Crawford-Roberts          3\n",
       "Squirrel Hill North       3\n",
       "North Oakland             3\n",
       "East Hills                3\n",
       "Bedford Dwellings         3\n",
       "West End                  3\n",
       "Central Northside         3\n",
       "Shadyside                 2\n",
       "St. Clair                 2\n",
       "Glen Hazel                2\n",
       "East Carnegie             2\n",
       "Terrace Village           2\n",
       "Ridgemont                 2\n",
       "Larimer                   1\n",
       "Chartiers City            1\n",
       "South Side Flats          1\n",
       "Windgap                   1\n",
       "Esplen                    1\n",
       "Bon Air                   1\n",
       "Bluff                     1\n",
       "Strip District            1\n",
       "Name: neighborhood, Length: 68, dtype: int64"
      ]
     },
     "execution_count": 49,
     "metadata": {},
     "output_type": "execute_result"
    }
   ],
   "source": [
    "viable_steps[\"neighborhood\"].value_counts()"
   ]
  },
  {
   "cell_type": "markdown",
   "metadata": {},
   "source": [
    "Alright, we need to multiply these values by their respective weights."
   ]
  },
  {
   "cell_type": "code",
   "execution_count": 93,
   "metadata": {},
   "outputs": [
    {
     "data": {
      "text/plain": [
       "South Side Slopes        60\n",
       "East Allegheny           30\n",
       "Allentown                30\n",
       "Perry South              25\n",
       "Mount Washington         20\n",
       "Banksville               20\n",
       "West End                 20\n",
       "Morningside              20\n",
       "Squirrel Hill South      15\n",
       "Beechview                15\n",
       "Upper Hill               15\n",
       "Spring Hill-City View    15\n",
       "Beltzhoover              15\n",
       "Stanton Heights          15\n",
       "Fineview                 15\n",
       "Perry North              15\n",
       "Greenfield               15\n",
       "Marshall-Shadeland       10\n",
       "Troy Hill                10\n",
       "Brookline                10\n",
       "Polish Hill              10\n",
       "Elliott                  10\n",
       "Spring Garden            10\n",
       "South Shore               5\n",
       "Brighton Heights          5\n",
       "Crawford-Roberts          5\n",
       "Hazelwood                 5\n",
       "Highland Park             5\n",
       "Crafton Heights           5\n",
       "East Carnegie             5\n",
       "Sheraden                  5\n",
       "Hays                      5\n",
       "Name: neighborhood, dtype: int64"
      ]
     },
     "execution_count": 93,
     "metadata": {},
     "output_type": "execute_result"
    }
   ],
   "source": [
    "df1 = retaining_walls_tall[\"neighborhood\"].value_counts()\n",
    "df1 = df1.multiply(5)\n",
    "df1"
   ]
  },
  {
   "cell_type": "code",
   "execution_count": 94,
   "metadata": {},
   "outputs": [
    {
     "data": {
      "text/plain": [
       "Squirrel Hill South          244.0\n",
       "Squirrel Hill North          239.0\n",
       "Shadyside                    150.2\n",
       "Highland Park                135.2\n",
       "Point Breeze                 129.8\n",
       "Bloomfield                   117.2\n",
       "South Side Flats             108.0\n",
       "Stanton Heights              101.4\n",
       "Brighton Heights              98.4\n",
       "Brookline                     88.2\n",
       "East Liberty                  85.0\n",
       "Mount Washington              67.6\n",
       "Lincoln-Lemington-Belmar      62.6\n",
       "Carrick                       61.2\n",
       "North Oakland                 60.8\n",
       "Central Northside             60.6\n",
       "Manchester                    60.2\n",
       "Greenfield                    59.2\n",
       "East Hills                    58.2\n",
       "Central Business District     57.8\n",
       "Beechview                     54.8\n",
       "Hazelwood                     51.2\n",
       "Point Breeze North            45.0\n",
       "Knoxville                     44.8\n",
       "Banksville                    44.0\n",
       "Marshall-Shadeland            42.6\n",
       "Sheraden                      41.2\n",
       "Lower Lawrenceville           38.8\n",
       "Central Lawrenceville         37.4\n",
       "Crafton Heights               37.0\n",
       "                             ...  \n",
       "Fineview                      12.2\n",
       "West End                      12.0\n",
       "Windgap                       10.8\n",
       "Oakwood                       10.4\n",
       "Beltzhoover                    9.8\n",
       "Summer Hill                    9.6\n",
       "Terrace Village                9.4\n",
       "California-Kirkbride           9.2\n",
       "Bluff                          9.2\n",
       "Bon Air                        8.4\n",
       "Spring Hill-City View          7.8\n",
       "Bedford Dwellings              7.4\n",
       "Allentown                      6.8\n",
       "Duquesne Heights               6.4\n",
       "Arlington                      6.2\n",
       "Homewood West                  6.2\n",
       "Chartiers City                 5.8\n",
       "Spring Garden                  4.0\n",
       "Fairywood                      3.6\n",
       "Allegheny Center               3.6\n",
       "West Oakland                   2.8\n",
       "Troy Hill                      2.6\n",
       "Ridgemont                      1.6\n",
       "St. Clair                      1.4\n",
       "Mt. Oliver                     1.0\n",
       "East Carnegie                  0.6\n",
       "Northview Heights              0.6\n",
       "Arlington Heights              0.6\n",
       "Esplen                         0.2\n",
       "South Shore                    0.2\n",
       "Name: neighborhood, Length: 88, dtype: float64"
      ]
     },
     "execution_count": 94,
     "metadata": {},
     "output_type": "execute_result"
    }
   ],
   "source": [
    "df2 = climbable_trees[\"neighborhood\"].value_counts()\n",
    "df2 = df2.multiply(.2)\n",
    "df2"
   ]
  },
  {
   "cell_type": "code",
   "execution_count": 95,
   "metadata": {},
   "outputs": [
    {
     "data": {
      "text/plain": [
       "South Side Slopes        300\n",
       "Beechview                180\n",
       "Mount Washington         175\n",
       "Marshall-Shadeland       135\n",
       "Perry South              135\n",
       "Brookline                125\n",
       "Greenfield               120\n",
       "Hazelwood                 95\n",
       "Carrick                   90\n",
       "Duquesne Heights          80\n",
       "Perry North               75\n",
       "Polish Hill               75\n",
       "Sheraden                  75\n",
       "Fineview                  70\n",
       "Spring Hill-City View     60\n",
       "Beltzhoover               60\n",
       "Overbrook                 60\n",
       "Middle Hill               55\n",
       "Arlington                 55\n",
       "Troy Hill                 55\n",
       "Upper Hill                55\n",
       "Brighton Heights          50\n",
       "Elliott                   50\n",
       "Garfield                  50\n",
       "Westwood                  50\n",
       "Stanton Heights           50\n",
       "Spring Garden             45\n",
       "California-Kirkbride      40\n",
       "Allentown                 40\n",
       "Upper Lawrenceville       40\n",
       "                        ... \n",
       "Lincoln Place             25\n",
       "Morningside               25\n",
       "Bloomfield                20\n",
       "Point Breeze              20\n",
       "Mt. Oliver                20\n",
       "Squirrel Hill South       20\n",
       "Oakwood                   20\n",
       "East Allegheny            20\n",
       "Highland Park             15\n",
       "Crawford-Roberts          15\n",
       "Squirrel Hill North       15\n",
       "North Oakland             15\n",
       "East Hills                15\n",
       "Bedford Dwellings         15\n",
       "West End                  15\n",
       "Central Northside         15\n",
       "Shadyside                 10\n",
       "St. Clair                 10\n",
       "Glen Hazel                10\n",
       "East Carnegie             10\n",
       "Terrace Village           10\n",
       "Ridgemont                 10\n",
       "Larimer                    5\n",
       "Chartiers City             5\n",
       "South Side Flats           5\n",
       "Windgap                    5\n",
       "Esplen                     5\n",
       "Bon Air                    5\n",
       "Bluff                      5\n",
       "Strip District             5\n",
       "Name: neighborhood, Length: 68, dtype: int64"
      ]
     },
     "execution_count": 95,
     "metadata": {},
     "output_type": "execute_result"
    }
   ],
   "source": [
    "df3 = viable_steps[\"neighborhood\"].value_counts()\n",
    "df3 = df3.multiply(5)\n",
    "df3"
   ]
  },
  {
   "cell_type": "markdown",
   "metadata": {},
   "source": [
    "Finally, let's add all those values up and sort them."
   ]
  },
  {
   "cell_type": "code",
   "execution_count": 96,
   "metadata": {},
   "outputs": [
    {
     "data": {
      "text/plain": [
       "South Side Slopes           374.6\n",
       "Squirrel Hill South         279.0\n",
       "Mount Washington            262.6\n",
       "Squirrel Hill North         254.0\n",
       "Beechview                   249.8\n",
       "Brookline                   223.2\n",
       "Perry South                 194.2\n",
       "Greenfield                  194.2\n",
       "Marshall-Shadeland          187.6\n",
       "Stanton Heights             166.4\n",
       "Shadyside                   160.2\n",
       "Highland Park               155.2\n",
       "Brighton Heights            153.4\n",
       "Hazelwood                   151.2\n",
       "Carrick                     151.2\n",
       "Point Breeze                149.8\n",
       "Bloomfield                  137.2\n",
       "Sheraden                    121.2\n",
       "Perry North                 120.0\n",
       "South Side Flats            113.0\n",
       "Polish Hill                 100.2\n",
       "Lincoln-Lemington-Belmar     97.6\n",
       "Fineview                     97.2\n",
       "Overbrook                    91.0\n",
       "Banksville                   89.0\n",
       "Duquesne Heights             86.4\n",
       "Garfield                     86.4\n",
       "Upper Hill                   85.6\n",
       "East Liberty                 85.0\n",
       "Beltzhoover                  84.8\n",
       "                            ...  \n",
       "Regent Square                30.4\n",
       "Oakwood                      30.4\n",
       "Larimer                      28.4\n",
       "Friendship                   27.6\n",
       "Swisshelm Park               27.2\n",
       "North Shore                  22.8\n",
       "Bedford Dwellings            22.4\n",
       "New Homestead                21.6\n",
       "Mt. Oliver                   21.0\n",
       "Allegheny West               19.6\n",
       "Terrace Village              19.4\n",
       "Strip District               19.2\n",
       "Windgap                      15.8\n",
       "East Carnegie                15.6\n",
       "Bluff                        14.2\n",
       "Bon Air                      13.4\n",
       "Chateau                      13.2\n",
       "Ridgemont                    11.6\n",
       "St. Clair                    11.4\n",
       "Chartiers City               10.8\n",
       "Glen Hazel                   10.0\n",
       "Summer Hill                   9.6\n",
       "Homewood West                 6.2\n",
       "South Shore                   5.2\n",
       "Esplen                        5.2\n",
       "Hays                          5.0\n",
       "Fairywood                     3.6\n",
       "Allegheny Center              3.6\n",
       "Arlington Heights             0.6\n",
       "Northview Heights             0.6\n",
       "Name: neighborhood, Length: 90, dtype: float64"
      ]
     },
     "execution_count": 96,
     "metadata": {},
     "output_type": "execute_result"
    }
   ],
   "source": [
    "df_combined = df1.add(df2, fill_value=0).add(df3, fill_value=0)\n",
    "final_dataframe = df_combined.sort_values(ascending=False)\n",
    "final_dataframe"
   ]
  },
  {
   "cell_type": "code",
   "execution_count": 97,
   "metadata": {},
   "outputs": [
    {
     "data": {
      "text/plain": [
       "<matplotlib.axes._subplots.AxesSubplot at 0x7f2b6ff1e5f8>"
      ]
     },
     "execution_count": 97,
     "metadata": {},
     "output_type": "execute_result"
    },
    {
     "data": {
      "image/png": "[encoded data removed]",
      "text/plain": [
       "<Figure size 432x288 with 1 Axes>"
      ]
     },
     "metadata": {
      "needs_background": "light"
     },
     "output_type": "display_data"
    }
   ],
   "source": [
    "final_dataframe.head(10).plot(kind=\"bar\")"
   ]
  },
  {
   "cell_type": "markdown",
   "metadata": {},
   "source": [
    "And we have a winner!\n",
    "\n",
    "![winner](https://media3.giphy.com/media/2gtoSIzdrSMFO/200.webp?cid=790b761130b33c1ca630ee06213325cfcf052b4faa940d3b&rid=200.webp)\n",
    "\n",
    "South Side Slopes, with its large numbers of stairs and retaining walls, has proven to be the most defensible neighborhood in Pittsburgh, with a sky-high SI of 374.6!\n",
    "\n",
    "Interestingly, Squirrel Hill South and Squirrel Hill North are 2nd and 4th place respectively, owing to their large numbers of trees. Mount Washington comes in between them in 3rd place for its steps and retaining walls. Beechview comes in 5th, largely for its steps, and Brookline, Perry South, Greenfield, Marshall-Shadeland, and Stanton Heights round out our Top 10.\n",
    "\n",
    "So there you have it! If you want to rest assured in the knowledge that you and your family will be safe when the Zombie Apocalypse happens, move to South Side Slopes.\n",
    "\n",
    "And whatever you do, don't forget to buy a chainsaw.\n",
    "\n",
    "![chainsaw](https://hgcdn82.azureedge.net/qs_ver=97d7dd239bb4866b3505e359d07f77a7&hcsh=D10FF04F5F441B07FF5E7E95135438B7573AFC95/_$$_/media/damroot/husqvarna/forest%20chain%20saws%20electric%20saws%20power%20cutters%20and%20saw%20mills/electric%20chain%20saws/studio/h110-03xx/h110-0388.ashx)"
   ]
  },
  {
   "cell_type": "code",
   "execution_count": null,
   "metadata": {},
   "outputs": [],
   "source": []
  }
 ],
 "metadata": {
  "kernelspec": {
   "display_name": "Python 3.7",
   "language": "python",
   "name": "python3"
  },
  "language_info": {
   "codemirror_mode": {
    "name": "ipython",
    "version": 3
   },
   "file_extension": ".py",
   "mimetype": "text/x-python",
   "name": "python",
   "nbconvert_exporter": "python",
   "pygments_lexer": "ipython3",
   "version": "3.7.0"
  }
 },
 "nbformat": 4,
 "nbformat_minor": 4
}
